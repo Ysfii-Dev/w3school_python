{
 "cells": [
  {
   "cell_type": "markdown",
   "metadata": {
    "id": "v3Ja3eKtOdgQ"
   },
   "source": [
    "1. NumPy Getting Started"
   ]
  },
  {
   "cell_type": "code",
   "execution_count": 33,
   "metadata": {
    "colab": {
     "base_uri": "https://localhost:8080/"
    },
    "id": "8Vd0frQlOYL1",
    "outputId": "92aa61b8-08c0-4a56-b20c-bbba7591eb10"
   },
   "outputs": [
    {
     "name": "stdout",
     "output_type": "stream",
     "text": [
      "NumPy version: 1.26.4\n"
     ]
    }
   ],
   "source": [
    "import numpy as np\n",
    "print(\"NumPy version:\", np.__version__)\n"
   ]
  },
  {
   "cell_type": "markdown",
   "metadata": {
    "id": "1j8dQEbSOegv"
   },
   "source": [
    "2. NumPy Creating Arrays"
   ]
  },
  {
   "cell_type": "code",
   "execution_count": 34,
   "metadata": {
    "colab": {
     "base_uri": "https://localhost:8080/"
    },
    "id": "xpcwKr7OOeIn",
    "outputId": "f95fcd2e-bf86-4301-fc45-09562cb3d60e"
   },
   "outputs": [
    {
     "name": "stdout",
     "output_type": "stream",
     "text": [
      "[1 2 3 4 5]\n"
     ]
    }
   ],
   "source": [
    "import numpy as np\n",
    "array = np.array([1, 2, 3, 4, 5])\n",
    "print(array)\n",
    "\n"
   ]
  },
  {
   "cell_type": "markdown",
   "metadata": {
    "id": "I89BfWfBOf-O"
   },
   "source": [
    "3. NumPy Array Indexing"
   ]
  },
  {
   "cell_type": "code",
   "execution_count": 35,
   "metadata": {
    "colab": {
     "base_uri": "https://localhost:8080/"
    },
    "id": "SDRS88pKOg2u",
    "outputId": "caa574af-5847-4e42-da8c-ce1525d44348"
   },
   "outputs": [
    {
     "name": "stdout",
     "output_type": "stream",
     "text": [
      "30\n"
     ]
    }
   ],
   "source": [
    "import numpy as np\n",
    "array = np.array([10, 20, 30, 40])\n",
    "print(array[2])  # Akses elemen ketiga\n"
   ]
  },
  {
   "cell_type": "markdown",
   "metadata": {
    "id": "Bo_x3_3kOh-v"
   },
   "source": [
    "4. NumPy Array Slicing"
   ]
  },
  {
   "cell_type": "code",
   "execution_count": 36,
   "metadata": {
    "colab": {
     "base_uri": "https://localhost:8080/"
    },
    "id": "y7mSqNGwOh2m",
    "outputId": "a3e5b30f-e135-4410-8b2b-c6846959a3d5"
   },
   "outputs": [
    {
     "name": "stdout",
     "output_type": "stream",
     "text": [
      "NumPy version: 1.26.4\n",
      "[1 2 3 4 5]\n",
      "30\n",
      "[2 3 4 5]\n",
      "[5 6 7]\n",
      "[1 2 3 4]\n",
      "[5 6]\n"
     ]
    }
   ],
   "source": [
    "import numpy as np\n",
    "# 1. NumPy Getting Started\n",
    "print(\"NumPy version:\", np.__version__)\n",
    "\n",
    "# 2. NumPy Creating Arrays\n",
    "array = np.array([1, 2, 3, 4, 5])\n",
    "print(array)\n",
    "\n",
    "\n",
    "# 3. NumPy Array Indexing\n",
    "array = np.array([10, 20, 30, 40])\n",
    "print(array[2])  # Akses elemen ketiga\n",
    "\n",
    "# 4. NumPy Array Slicing\n",
    "arr = np.array([1, 2, 3, 4, 5, 6, 7])\n",
    "print(arr[1:5]) # Slice dari indeks 1 hingga 4\n",
    "print(arr[4:])  # Slice dari indeks 4 hingga akhir\n",
    "print(arr[:4])  # Slice dari awal hingga indeks 3\n",
    "print(arr[-3:-1]) # Slice dari indeks -3 hingga -2"
   ]
  },
  {
   "cell_type": "markdown",
   "metadata": {
    "id": "ftkbMVp4OhsH"
   },
   "source": [
    "5. NumPy Data Types"
   ]
  },
  {
   "cell_type": "code",
   "execution_count": 37,
   "metadata": {
    "colab": {
     "base_uri": "https://localhost:8080/"
    },
    "id": "PzH1vTZYOhev",
    "outputId": "643d7cc0-37f6-4978-d03e-7665c74ee8ec"
   },
   "outputs": [
    {
     "name": "stdout",
     "output_type": "stream",
     "text": [
      "int64\n",
      "<U6\n",
      "[b'1' b'2' b'3' b'4']\n",
      "|S1\n",
      "[1 2 3 4]\n"
     ]
    },
    {
     "data": {
      "text/plain": [
       "dtype('int32')"
      ]
     },
     "execution_count": 37,
     "metadata": {},
     "output_type": "execute_result"
    }
   ],
   "source": [
    "\n",
    "# 5. NumPy Data Types\n",
    "arr = np.array([1, 2, 3, 4])\n",
    "print(arr.dtype)\n",
    "\n",
    "arr = np.array(['apple', 'banana', 'cherry'])\n",
    "print(arr.dtype)\n",
    "\n",
    "arr = np.array([1, 2, 3, 4], dtype='S')\n",
    "print(arr)\n",
    "print(arr.dtype)\n",
    "\n",
    "arr = np.array([1, 2, 3, 4], dtype='i4')\n",
    "print(arr)\n",
    "arr.dtype"
   ]
  },
  {
   "cell_type": "markdown",
   "metadata": {
    "id": "7sXZa7iVOhOf"
   },
   "source": [
    "6. NumPy Copy vs View"
   ]
  },
  {
   "cell_type": "code",
   "execution_count": 38,
   "metadata": {
    "colab": {
     "base_uri": "https://localhost:8080/"
    },
    "id": "izE3ds90QZZy",
    "outputId": "d8e9e6b5-7a81-4d91-ccec-39312aade89f"
   },
   "outputs": [
    {
     "name": "stdout",
     "output_type": "stream",
     "text": [
      "[42  2  3  4  5]\n",
      "[1 2 3 4 5]\n",
      "[42  2  3  4  5]\n"
     ]
    },
    {
     "data": {
      "text/plain": [
       "array([42,  2,  3,  4,  5])"
      ]
     },
     "execution_count": 38,
     "metadata": {},
     "output_type": "execute_result"
    }
   ],
   "source": [
    "# prompt: NumPy Copy vs View\n",
    "\n",
    "# 6. NumPy Copy vs View\n",
    "arr = np.array([1, 2, 3, 4, 5])\n",
    "x = arr.copy()\n",
    "arr[0] = 42\n",
    "\n",
    "print(arr)\n",
    "print(x)\n",
    "\n",
    "arr = np.array([1, 2, 3, 4, 5])\n",
    "x = arr.view()\n",
    "arr[0] = 42\n",
    "\n",
    "print(arr)\n",
    "x\n"
   ]
  },
  {
   "cell_type": "markdown",
   "metadata": {
    "id": "FALlUaVPQheV"
   },
   "source": [
    "7. NumPy Array Shape"
   ]
  },
  {
   "cell_type": "code",
   "execution_count": 39,
   "metadata": {
    "colab": {
     "base_uri": "https://localhost:8080/"
    },
    "id": "3J1xNqbOQiY7",
    "outputId": "accbb5e8-2d71-4a20-b2ab-a8386e3e94f8"
   },
   "outputs": [
    {
     "name": "stdout",
     "output_type": "stream",
     "text": [
      "(2, 3)\n"
     ]
    }
   ],
   "source": [
    "\n",
    "import numpy as np\n",
    "array = np.array([[1, 2, 3], [4, 5, 6]])\n",
    "print(array.shape)\n",
    "\n"
   ]
  },
  {
   "cell_type": "markdown",
   "metadata": {
    "id": "SKdIUMGhQry4"
   },
   "source": [
    "8. NumPy Array Reshape"
   ]
  },
  {
   "cell_type": "code",
   "execution_count": 40,
   "metadata": {
    "colab": {
     "base_uri": "https://localhost:8080/"
    },
    "id": "j2FlGm7dQunK",
    "outputId": "a6a1e6e9-601b-4996-b6a8-9709ba556a87"
   },
   "outputs": [
    {
     "name": "stdout",
     "output_type": "stream",
     "text": [
      "[[1 2 3]\n",
      " [4 5 6]]\n"
     ]
    }
   ],
   "source": [
    "import numpy as np\n",
    "array = np.array([1, 2, 3, 4, 5, 6])\n",
    "reshaped = array.reshape(2, 3)\n",
    "print(reshaped)\n"
   ]
  },
  {
   "cell_type": "markdown",
   "metadata": {
    "id": "IFwbme-HQxeo"
   },
   "source": [
    "9. NumPy Array Iterating"
   ]
  },
  {
   "cell_type": "code",
   "execution_count": 41,
   "metadata": {
    "colab": {
     "base_uri": "https://localhost:8080/"
    },
    "id": "y3sxcS26QvtN",
    "outputId": "b8c80bcd-2dc2-4dd6-85de-bbcb9b94606f"
   },
   "outputs": [
    {
     "name": "stdout",
     "output_type": "stream",
     "text": [
      "1\n",
      "2\n",
      "3\n",
      "4\n"
     ]
    }
   ],
   "source": [
    "import numpy as np\n",
    "array = np.array([1, 2, 3, 4])\n",
    "for x in array:\n",
    "    print(x)\n"
   ]
  },
  {
   "cell_type": "markdown",
   "metadata": {
    "id": "MJSTAL9IQ6MC"
   },
   "source": [
    "10. NumPy Array Join"
   ]
  },
  {
   "cell_type": "code",
   "execution_count": 42,
   "metadata": {
    "colab": {
     "base_uri": "https://localhost:8080/"
    },
    "id": "bAQoO7rTQ5UK",
    "outputId": "19260ce8-4fdb-4fd7-be07-edb3f59e0ded"
   },
   "outputs": [
    {
     "name": "stdout",
     "output_type": "stream",
     "text": [
      "[1 2 3 4]\n"
     ]
    }
   ],
   "source": [
    "import numpy as np\n",
    "array1 = np.array([1, 2])\n",
    "array2 = np.array([3, 4])\n",
    "joined = np.concatenate((array1, array2))\n",
    "print(joined)\n"
   ]
  },
  {
   "cell_type": "markdown",
   "metadata": {
    "id": "S7en1QOGQ-RJ"
   },
   "source": [
    "11. NumPy Array Split"
   ]
  },
  {
   "cell_type": "code",
   "execution_count": 43,
   "metadata": {
    "colab": {
     "base_uri": "https://localhost:8080/"
    },
    "id": "ZiKkl9WXQ5PW",
    "outputId": "935d0d41-2562-41b5-bc8c-5f1a810b7099"
   },
   "outputs": [
    {
     "name": "stdout",
     "output_type": "stream",
     "text": [
      "[array([1, 2]), array([3, 4]), array([5, 6])]\n"
     ]
    }
   ],
   "source": [
    "import numpy as np\n",
    "array = np.array([1, 2, 3, 4, 5, 6])\n",
    "split = np.array_split(array, 3)\n",
    "print(split)\n"
   ]
  },
  {
   "cell_type": "markdown",
   "metadata": {
    "id": "vX_eCKexRH7f"
   },
   "source": [
    "12. NumPy Array Search"
   ]
  },
  {
   "cell_type": "code",
   "execution_count": 44,
   "metadata": {
    "colab": {
     "base_uri": "https://localhost:8080/"
    },
    "id": "PLo3Cw-qQ5M7",
    "outputId": "f301c4f9-b892-43f8-93fb-b73cc6d2ab5f"
   },
   "outputs": [
    {
     "name": "stdout",
     "output_type": "stream",
     "text": [
      "(array([3]),)\n"
     ]
    }
   ],
   "source": [
    "import numpy as np\n",
    "array = np.array([1, 2, 3, 4, 5])\n",
    "result = np.where(array == 4)\n",
    "print(result)\n"
   ]
  },
  {
   "cell_type": "markdown",
   "metadata": {
    "id": "0wzWdCGARKdg"
   },
   "source": [
    "13. NumPy Array Sort"
   ]
  },
  {
   "cell_type": "code",
   "execution_count": 45,
   "metadata": {
    "colab": {
     "base_uri": "https://localhost:8080/"
    },
    "id": "bTXaSEZ3Q5Ku",
    "outputId": "1ae793c0-e2f5-4bba-8953-492374e8a6d1"
   },
   "outputs": [
    {
     "name": "stdout",
     "output_type": "stream",
     "text": [
      "[1 2 3 4 5]\n"
     ]
    }
   ],
   "source": [
    "import numpy as np\n",
    "array = np.array([3, 1, 5, 2, 4])\n",
    "sorted_array = np.sort(array)\n",
    "print(sorted_array)\n"
   ]
  },
  {
   "cell_type": "markdown",
   "metadata": {
    "id": "yMRi4OaWRSn3"
   },
   "source": [
    "14. NumPy Array Filter"
   ]
  },
  {
   "cell_type": "code",
   "execution_count": 46,
   "metadata": {
    "colab": {
     "base_uri": "https://localhost:8080/"
    },
    "id": "dA3TBlY3Q5IS",
    "outputId": "6c4a070e-77e4-4b30-d864-fa5cf74c6d02"
   },
   "outputs": [
    {
     "name": "stdout",
     "output_type": "stream",
     "text": [
      "[3 4 5]\n"
     ]
    }
   ],
   "source": [
    "import numpy as np\n",
    "array = np.array([1, 2, 3, 4, 5])\n",
    "filter_array = array[array > 2]\n",
    "print(filter_array)\n"
   ]
  },
  {
   "cell_type": "markdown",
   "metadata": {
    "id": "cuv_oUtKRWEJ"
   },
   "source": [
    "15. Random Intro"
   ]
  },
  {
   "cell_type": "code",
   "execution_count": 47,
   "metadata": {
    "colab": {
     "base_uri": "https://localhost:8080/"
    },
    "id": "unAjqS-VQ5Fy",
    "outputId": "5bbb679b-1f1b-4062-becf-8030376714b4"
   },
   "outputs": [
    {
     "name": "stdout",
     "output_type": "stream",
     "text": [
      "Random number: 0.10366598119112824\n"
     ]
    }
   ],
   "source": [
    "import numpy as np\n",
    "random_number = np.random.rand()\n",
    "print(\"Random number:\", random_number)\n"
   ]
  },
  {
   "cell_type": "markdown",
   "metadata": {
    "id": "2uCwlR_tRfWy"
   },
   "source": [
    "16. data distribution"
   ]
  },
  {
   "cell_type": "code",
   "execution_count": 48,
   "metadata": {
    "colab": {
     "base_uri": "https://localhost:8080/",
     "height": 430
    },
    "id": "73AypGj3RjIp",
    "outputId": "02b72860-9337-48d6-bd3d-051d74e66b50"
   },
   "outputs": [
    {
     "data": {
      "image/png": "[encoded data removed]",
      "text/plain": [
       "<Figure size 640x480 with 1 Axes>"
      ]
     },
     "metadata": {},
     "output_type": "display_data"
    }
   ],
   "source": [
    "import numpy as np\n",
    "import matplotlib.pyplot as plt\n",
    "data = np.random.normal(0, 1, 1000)  # Distribusi normal\n",
    "plt.hist(data, bins=30)\n",
    "plt.show()\n"
   ]
  },
  {
   "cell_type": "markdown",
   "metadata": {
    "id": "2e_yyzZnRjvh"
   },
   "source": [
    "17. random permutation"
   ]
  },
  {
   "cell_type": "code",
   "execution_count": 49,
   "metadata": {
    "colab": {
     "base_uri": "https://localhost:8080/"
    },
    "id": "EK55NrdeRumq",
    "outputId": "90062494-96c0-4e04-8da3-350e60ccc436"
   },
   "outputs": [
    {
     "name": "stdout",
     "output_type": "stream",
     "text": [
      "[2 1 4 5 3]\n"
     ]
    }
   ],
   "source": [
    "import numpy as np\n",
    "array = np.array([1, 2, 3, 4, 5])\n",
    "permuted = np.random.permutation(array)\n",
    "print(permuted)\n"
   ]
  },
  {
   "cell_type": "markdown",
   "metadata": {
    "id": "0c_cWAdCRo5x"
   },
   "source": [
    "18. seaboarn module"
   ]
  },
  {
   "cell_type": "code",
   "execution_count": 50,
   "metadata": {
    "colab": {
     "base_uri": "https://localhost:8080/",
     "height": 430
    },
    "id": "QptvqD0BRouZ",
    "outputId": "3d46167b-dc0f-4490-f109-f01a0e608fe9"
   },
   "outputs": [
    {
     "data": {
      "image/png": "[encoded data removed]",
      "text/plain": [
       "<Figure size 640x480 with 1 Axes>"
      ]
     },
     "metadata": {},
     "output_type": "display_data"
    }
   ],
   "source": [
    "import seaborn as sns\n",
    "import numpy as np\n",
    "import matplotlib.pyplot as plt\n",
    "data = np.random.normal(0, 1, 1000)\n",
    "sns.histplot(data, kde=True)\n",
    "plt.show()\n"
   ]
  },
  {
   "cell_type": "markdown",
   "metadata": {
    "id": "6wnVeCFqRtEJ"
   },
   "source": [
    "19. normal distribution"
   ]
  },
  {
   "cell_type": "code",
   "execution_count": 51,
   "metadata": {
    "colab": {
     "base_uri": "https://localhost:8080/"
    },
    "id": "bst0X4gFRsbR",
    "outputId": "aa6b7167-4f1c-4b25-cefe-b5011b441d4d"
   },
   "outputs": [
    {
     "name": "stdout",
     "output_type": "stream",
     "text": [
      "Sample from normal distribution: [ 0.04588199 -0.40637369  1.28564969  0.61330007 -1.23096017]\n"
     ]
    }
   ],
   "source": [
    "import numpy as np\n",
    "data = np.random.normal(0, 1, 1000)\n",
    "print(\"Sample from normal distribution:\", data[:5])\n"
   ]
  },
  {
   "cell_type": "markdown",
   "metadata": {
    "id": "2qYKVncvRogh"
   },
   "source": [
    "20. Binomial Distribution"
   ]
  },
  {
   "cell_type": "code",
   "execution_count": 52,
   "metadata": {
    "colab": {
     "base_uri": "https://localhost:8080/"
    },
    "id": "3H9Ee7XzRoZZ",
    "outputId": "718b65e7-def5-4a1d-d330-31989b7231e5"
   },
   "outputs": [
    {
     "name": "stdout",
     "output_type": "stream",
     "text": [
      "Sample from binomial distribution: [6 4 5 7 6]\n"
     ]
    }
   ],
   "source": [
    "import numpy as np\n",
    "data = np.random.binomial(n=10, p=0.5, size=1000)\n",
    "print(\"Sample from binomial distribution:\", data[:5])\n"
   ]
  },
  {
   "cell_type": "markdown",
   "metadata": {
    "id": "VmDjl5wERoQK"
   },
   "source": [
    "21. Poisson Distribution"
   ]
  },
  {
   "cell_type": "code",
   "execution_count": 53,
   "metadata": {
    "colab": {
     "base_uri": "https://localhost:8080/"
    },
    "id": "JZsJR3rtRoIx",
    "outputId": "16951d77-5377-4775-aa74-a4e3fb0412ed"
   },
   "outputs": [
    {
     "name": "stdout",
     "output_type": "stream",
     "text": [
      "Sample from Poisson distribution: [6 4 1 3 3]\n"
     ]
    }
   ],
   "source": [
    "import numpy as np\n",
    "data = np.random.poisson(lam=3, size=1000)\n",
    "print(\"Sample from Poisson distribution:\", data[:5])\n"
   ]
  },
  {
   "cell_type": "markdown",
   "metadata": {
    "id": "f7tYDnctRnyJ"
   },
   "source": [
    "22. Uniform Distribution"
   ]
  },
  {
   "cell_type": "code",
   "execution_count": 54,
   "metadata": {
    "colab": {
     "base_uri": "https://localhost:8080/"
    },
    "id": "pAr7dzeQRnp6",
    "outputId": "5daafc43-e227-4675-a2eb-a867fb5c8a57"
   },
   "outputs": [
    {
     "name": "stdout",
     "output_type": "stream",
     "text": [
      "Sample from uniform distribution: [8.56688924 6.93005721 2.07152266 8.59263695 3.99715669]\n"
     ]
    }
   ],
   "source": [
    "import numpy as np\n",
    "data = np.random.uniform(0, 10, 1000)\n",
    "print(\"Sample from uniform distribution:\", data[:5])\n"
   ]
  },
  {
   "cell_type": "markdown",
   "metadata": {
    "id": "d6bj8EYuRncR"
   },
   "source": [
    "23. Logistic Distribution"
   ]
  },
  {
   "cell_type": "code",
   "execution_count": 55,
   "metadata": {
    "colab": {
     "base_uri": "https://localhost:8080/"
    },
    "id": "O1inbp0nRnS0",
    "outputId": "e025f96f-774d-459e-e1ca-cb762f6d4124"
   },
   "outputs": [
    {
     "name": "stdout",
     "output_type": "stream",
     "text": [
      "Sample from logistic distribution: [ 3.05716149  1.53094392 -1.68099859  0.61125972 -0.72229387]\n"
     ]
    }
   ],
   "source": [
    "import numpy as np\n",
    "data = np.random.logistic(loc=0, scale=1, size=1000)\n",
    "print(\"Sample from logistic distribution:\", data[:5])\n"
   ]
  },
  {
   "cell_type": "markdown",
   "metadata": {
    "id": "QtWX27cwRnMA"
   },
   "source": [
    "24. Multinomial Distribution"
   ]
  },
  {
   "cell_type": "code",
   "execution_count": 56,
   "metadata": {
    "colab": {
     "base_uri": "https://localhost:8080/"
    },
    "id": "Ti34RLNNRnFL",
    "outputId": "08a43752-1fc8-4610-c773-b15efda33682"
   },
   "outputs": [
    {
     "name": "stdout",
     "output_type": "stream",
     "text": [
      "Sample from multinomial distribution: [[2 4 4]]\n"
     ]
    }
   ],
   "source": [
    "import numpy as np\n",
    "data = np.random.multinomial(10, [0.2, 0.3, 0.5], size=1)\n",
    "print(\"Sample from multinomial distribution:\", data)\n"
   ]
  },
  {
   "cell_type": "markdown",
   "metadata": {
    "id": "9Cd99KzwRm-6"
   },
   "source": [
    "25. Exponential Distribution"
   ]
  },
  {
   "cell_type": "code",
   "execution_count": 57,
   "metadata": {
    "colab": {
     "base_uri": "https://localhost:8080/"
    },
    "id": "yaaF8v5BRm4L",
    "outputId": "d8ff65be-0665-4162-af84-08d29005da67"
   },
   "outputs": [
    {
     "name": "stdout",
     "output_type": "stream",
     "text": [
      "Sample from exponential distribution: [0.36778627 1.79287275 1.09379047 0.508048   0.41701834]\n"
     ]
    }
   ],
   "source": [
    "import numpy as np\n",
    "data = np.random.exponential(scale=1, size=1000)\n",
    "print(\"Sample from exponential distribution:\", data[:5])\n"
   ]
  },
  {
   "cell_type": "markdown",
   "metadata": {
    "id": "Lbq8pl8tRmxq"
   },
   "source": [
    "26. Chi Square Distribution"
   ]
  },
  {
   "cell_type": "code",
   "execution_count": 58,
   "metadata": {
    "colab": {
     "base_uri": "https://localhost:8080/"
    },
    "id": "IZwdIvu5Rmrg",
    "outputId": "486db5f8-9593-4b6a-da00-e8cdab5dbd10"
   },
   "outputs": [
    {
     "name": "stdout",
     "output_type": "stream",
     "text": [
      "Sample from chi-square distribution: [0.36780386 6.06653012 4.56957721 0.28883457 4.72310481]\n"
     ]
    }
   ],
   "source": [
    "import numpy as np\n",
    "data = np.random.chisquare(df=2, size=1000)\n",
    "print(\"Sample from chi-square distribution:\", data[:5])\n"
   ]
  },
  {
   "cell_type": "markdown",
   "metadata": {
    "id": "2SRQhLJARmlh"
   },
   "source": [
    "27. Rayleigh Distribution"
   ]
  },
  {
   "cell_type": "code",
   "execution_count": 59,
   "metadata": {
    "colab": {
     "base_uri": "https://localhost:8080/"
    },
    "id": "nzj4rxFHRmPz",
    "outputId": "4c79f6ef-d324-45e1-bbc0-01d931363208"
   },
   "outputs": [
    {
     "name": "stdout",
     "output_type": "stream",
     "text": [
      "Sample from Rayleigh distribution: [0.28248363 0.74500755 0.29633104 1.61241859 0.62726987]\n"
     ]
    }
   ],
   "source": [
    "import numpy as np\n",
    "data = np.random.rayleigh(scale=1, size=1000)\n",
    "print(\"Sample from Rayleigh distribution:\", data[:5])\n"
   ]
  },
  {
   "cell_type": "markdown",
   "metadata": {
    "id": "A3mRYV3zRl_5"
   },
   "source": [
    "28. Pareto Distribution"
   ]
  },
  {
   "cell_type": "code",
   "execution_count": 60,
   "metadata": {
    "colab": {
     "base_uri": "https://localhost:8080/"
    },
    "id": "4GR94MqxRlvZ",
    "outputId": "d18719a3-2f32-4560-fdcb-d761d1d6f8c7"
   },
   "outputs": [
    {
     "name": "stdout",
     "output_type": "stream",
     "text": [
      "Sample from Pareto distribution: [0.2433251  0.15217923 3.13855165 0.83843681 0.66611151]\n"
     ]
    }
   ],
   "source": [
    "import numpy as np\n",
    "data = np.random.pareto(a=2, size=1000)\n",
    "print(\"Sample from Pareto distribution:\", data[:5])\n"
   ]
  },
  {
   "cell_type": "markdown",
   "metadata": {
    "id": "vmeWUgTrTDoL"
   },
   "source": [
    "29.  Zipf Distribution"
   ]
  },
  {
   "cell_type": "code",
   "execution_count": 61,
   "metadata": {
    "colab": {
     "base_uri": "https://localhost:8080/"
    },
    "id": "B0_FRFDNTDhS",
    "outputId": "5e77dde4-0ba1-4c84-b99e-f58e39cb5910"
   },
   "outputs": [
    {
     "name": "stdout",
     "output_type": "stream",
     "text": [
      "Sample from Zipf distribution: [ 1  5  1  1 24]\n"
     ]
    }
   ],
   "source": [
    "import numpy as np\n",
    "data = np.random.zipf(a=2, size=1000)\n",
    "print(\"Sample from Zipf distribution:\", data[:5])\n"
   ]
  },
  {
   "cell_type": "markdown",
   "metadata": {
    "id": "N-QfQU27TDaK"
   },
   "source": [
    "30. unfunc intro"
   ]
  },
  {
   "cell_type": "code",
   "execution_count": 62,
   "metadata": {
    "colab": {
     "base_uri": "https://localhost:8080/"
    },
    "id": "oy4MEDpUTDSa",
    "outputId": "9d0cbc6f-2f84-4f1e-f513-1bb865a66a1b"
   },
   "outputs": [
    {
     "name": "stdout",
     "output_type": "stream",
     "text": [
      "Example of Universal Function (ufunc): 3\n"
     ]
    }
   ],
   "source": [
    "import numpy as np\n",
    "print(\"Example of Universal Function (ufunc):\", np.add(1, 2))\n"
   ]
  },
  {
   "cell_type": "markdown",
   "metadata": {
    "id": "DHfufFG8TDLS"
   },
   "source": [
    "31. ufunc Create Function"
   ]
  },
  {
   "cell_type": "code",
   "execution_count": 63,
   "metadata": {
    "colab": {
     "base_uri": "https://localhost:8080/"
    },
    "id": "xw5IY1D_TDDr",
    "outputId": "602b2cba-d7f3-453f-868f-44f1ef044c84"
   },
   "outputs": [
    {
     "name": "stdout",
     "output_type": "stream",
     "text": [
      "Custom ufunc add: 15\n"
     ]
    }
   ],
   "source": [
    "import numpy as np\n",
    "add = np.frompyfunc(lambda x, y: x + y, 2, 1)\n",
    "print(\"Custom ufunc add:\", add(5, 10))\n"
   ]
  },
  {
   "cell_type": "markdown",
   "metadata": {
    "id": "NEntzBEsTC88"
   },
   "source": [
    "32. ufunc Simple Arithmetic"
   ]
  },
  {
   "cell_type": "code",
   "execution_count": 64,
   "metadata": {
    "colab": {
     "base_uri": "https://localhost:8080/"
    },
    "id": "jJRzfAApTC2S",
    "outputId": "23ebb3f0-ff8c-4db5-8ff0-884911315bb5"
   },
   "outputs": [
    {
     "name": "stdout",
     "output_type": "stream",
     "text": [
      "Simple addition: [5 7 9]\n"
     ]
    }
   ],
   "source": [
    "import numpy as np\n",
    "array1 = np.array([1, 2, 3])\n",
    "array2 = np.array([4, 5, 6])\n",
    "result = np.add(array1, array2)\n",
    "print(\"Simple addition:\", result)\n"
   ]
  },
  {
   "cell_type": "markdown",
   "metadata": {
    "id": "SRH2c-LsTCuy"
   },
   "source": [
    "33. ufunc Rounding"
   ]
  },
  {
   "cell_type": "code",
   "execution_count": 65,
   "metadata": {
    "colab": {
     "base_uri": "https://localhost:8080/"
    },
    "id": "YvaDVNaITCn1",
    "outputId": "d9aa67b5-bfc7-4553-96ba-be6b85dbf7d4"
   },
   "outputs": [
    {
     "name": "stdout",
     "output_type": "stream",
     "text": [
      "Rounded array: [2. 2. 3.]\n"
     ]
    }
   ],
   "source": [
    "import numpy as np\n",
    "array = np.array([1.7, 2.5, 3.1])\n",
    "rounded = np.round(array)\n",
    "print(\"Rounded array:\", rounded)\n"
   ]
  },
  {
   "cell_type": "markdown",
   "metadata": {
    "id": "5nhbEQXqTCgb"
   },
   "source": [
    "34. Decimals"
   ]
  },
  {
   "cell_type": "code",
   "execution_count": 66,
   "metadata": {
    "colab": {
     "base_uri": "https://localhost:8080/"
    },
    "id": "xeeFxmqiTCZa",
    "outputId": "cbf87056-fcb8-42fc-cc9a-16a345651811"
   },
   "outputs": [
    {
     "name": "stdout",
     "output_type": "stream",
     "text": [
      "Rounded to 2 decimals: [1.12 2.57 3.91]\n"
     ]
    }
   ],
   "source": [
    "import numpy as np\n",
    "array = np.array([1.1234, 2.5678, 3.9123])\n",
    "rounded_to_decimals = np.round(array, 2)\n",
    "print(\"Rounded to 2 decimals:\", rounded_to_decimals)\n"
   ]
  },
  {
   "cell_type": "markdown",
   "metadata": {
    "id": "DdDbtyA6TCR7"
   },
   "source": [
    "35. ufunc Logs"
   ]
  },
  {
   "cell_type": "code",
   "execution_count": 67,
   "metadata": {
    "colab": {
     "base_uri": "https://localhost:8080/"
    },
    "id": "0ldcaiOFTCKq",
    "outputId": "06b07a70-6eaf-4c09-92bb-d978dd5ef8c0"
   },
   "outputs": [
    {
     "name": "stdout",
     "output_type": "stream",
     "text": [
      "Log of array: [0.         0.69314718 1.09861229]\n"
     ]
    }
   ],
   "source": [
    "import numpy as np\n",
    "array = np.array([1, 2, 3])\n",
    "log_result = np.log(array)\n",
    "print(\"Log of array:\", log_result)\n"
   ]
  },
  {
   "cell_type": "markdown",
   "metadata": {
    "id": "Om44NBc4TCC6"
   },
   "source": [
    "36. ufunc Summations"
   ]
  },
  {
   "cell_type": "code",
   "execution_count": 68,
   "metadata": {
    "colab": {
     "base_uri": "https://localhost:8080/"
    },
    "id": "GGd2vVRtTB7l",
    "outputId": "6bc63b2c-5897-43a7-def7-e0ff811e327f"
   },
   "outputs": [
    {
     "name": "stdout",
     "output_type": "stream",
     "text": [
      "Sum of array: 10\n"
     ]
    }
   ],
   "source": [
    "import numpy as np\n",
    "array = np.array([1, 2, 3, 4])\n",
    "sum_result = np.sum(array)\n",
    "print(\"Sum of array:\", sum_result)\n"
   ]
  },
  {
   "cell_type": "markdown",
   "metadata": {
    "id": "YwZj5BK8TB1j"
   },
   "source": [
    "37. ufunc Products"
   ]
  },
  {
   "cell_type": "code",
   "execution_count": 69,
   "metadata": {
    "colab": {
     "base_uri": "https://localhost:8080/"
    },
    "id": "IzOJE0z4TBuC",
    "outputId": "39b114ca-8c62-4d6e-b0a7-a984147a4376"
   },
   "outputs": [
    {
     "name": "stdout",
     "output_type": "stream",
     "text": [
      "Product of array: 24\n"
     ]
    }
   ],
   "source": [
    "import numpy as np\n",
    "array = np.array([1, 2, 3, 4])\n",
    "product_result = np.prod(array)\n",
    "print(\"Product of array:\", product_result)\n"
   ]
  },
  {
   "cell_type": "markdown",
   "metadata": {
    "id": "ZoBdUJtBTBl7"
   },
   "source": [
    "38. ufunc Differences"
   ]
  },
  {
   "cell_type": "code",
   "execution_count": 70,
   "metadata": {
    "colab": {
     "base_uri": "https://localhost:8080/"
    },
    "id": "xzugFV4fTBck",
    "outputId": "f0d03fb6-310f-4030-e8a6-e9511384638f"
   },
   "outputs": [
    {
     "name": "stdout",
     "output_type": "stream",
     "text": [
      "Differences in array: [10 10]\n"
     ]
    }
   ],
   "source": [
    "import numpy as np\n",
    "array = np.array([10, 20, 30])\n",
    "differences = np.diff(array)\n",
    "print(\"Differences in array:\", differences)\n"
   ]
  },
  {
   "cell_type": "markdown",
   "metadata": {
    "id": "TuwaD5BVTBPq"
   },
   "source": [
    "39. ufunc Finding LCM"
   ]
  },
  {
   "cell_type": "code",
   "execution_count": 71,
   "metadata": {
    "colab": {
     "base_uri": "https://localhost:8080/"
    },
    "id": "vHLXwIGgTBFL",
    "outputId": "bd3ca438-64bb-443b-d7cd-692163b187aa"
   },
   "outputs": [
    {
     "name": "stdout",
     "output_type": "stream",
     "text": [
      "LCM of array: 24\n"
     ]
    }
   ],
   "source": [
    "import numpy as np\n",
    "array = np.array([4, 6, 8])\n",
    "lcm = np.lcm.reduce(array)\n",
    "print(\"LCM of array:\", lcm)\n"
   ]
  },
  {
   "cell_type": "markdown",
   "metadata": {
    "id": "sMJVk7BPT7Gf"
   },
   "source": [
    "40. ufunc Finding GCD"
   ]
  },
  {
   "cell_type": "code",
   "execution_count": 72,
   "metadata": {
    "colab": {
     "base_uri": "https://localhost:8080/"
    },
    "id": "yEdkFP4ZT69H",
    "outputId": "a8e71aba-02ad-49b7-9581-1f352c1154c6"
   },
   "outputs": [
    {
     "name": "stdout",
     "output_type": "stream",
     "text": [
      "GCD of array: 3\n"
     ]
    }
   ],
   "source": [
    "import numpy as np\n",
    "array = np.array([12, 15, 21])\n",
    "gcd = np.gcd.reduce(array)\n",
    "print(\"GCD of array:\", gcd)\n"
   ]
  },
  {
   "cell_type": "markdown",
   "metadata": {
    "id": "lMTHzxvUT60X"
   },
   "source": [
    "41. ufunc Trigonometric"
   ]
  },
  {
   "cell_type": "code",
   "execution_count": 73,
   "metadata": {
    "colab": {
     "base_uri": "https://localhost:8080/"
    },
    "id": "BQzTOqCuT6qn",
    "outputId": "73a2f05b-2ea1-45e8-c09a-c2fd23952832"
   },
   "outputs": [
    {
     "name": "stdout",
     "output_type": "stream",
     "text": [
      "Sine of array: [0.0000000e+00 1.0000000e+00 1.2246468e-16]\n"
     ]
    }
   ],
   "source": [
    "import numpy as np\n",
    "array = np.array([0, np.pi/2, np.pi])\n",
    "sin_result = np.sin(array)\n",
    "print(\"Sine of array:\", sin_result)\n"
   ]
  },
  {
   "cell_type": "markdown",
   "metadata": {
    "id": "Thw1CewbT6iI"
   },
   "source": [
    "42.  ufunc Hyperbolic"
   ]
  },
  {
   "cell_type": "code",
   "execution_count": 74,
   "metadata": {
    "colab": {
     "base_uri": "https://localhost:8080/"
    },
    "id": "U5vjkEwWT6Zv",
    "outputId": "059f3379-9f7e-42a3-c86b-a6cfa6aea3b6"
   },
   "outputs": [
    {
     "name": "stdout",
     "output_type": "stream",
     "text": [
      "Hyperbolic sine of array: [ 0.          1.17520119 11.54873936]\n"
     ]
    }
   ],
   "source": [
    "import numpy as np\n",
    "array = np.array([0, 1, np.pi])\n",
    "sinh_result = np.sinh(array)\n",
    "print(\"Hyperbolic sine of array:\", sinh_result)\n"
   ]
  },
  {
   "cell_type": "markdown",
   "metadata": {
    "id": "Qt85E8BpT6Rw"
   },
   "source": [
    "43. ufunc Set Operations"
   ]
  },
  {
   "cell_type": "code",
   "execution_count": 75,
   "metadata": {
    "colab": {
     "base_uri": "https://localhost:8080/"
    },
    "id": "EiHR3W-ET6JZ",
    "outputId": "ef952e16-3ef2-49a3-c104-e764cdc644eb"
   },
   "outputs": [
    {
     "name": "stdout",
     "output_type": "stream",
     "text": [
      "Intersection of arrays: [3 4]\n"
     ]
    }
   ],
   "source": [
    "import numpy as np\n",
    "array1 = np.array([1, 2, 3, 4])\n",
    "array2 = np.array([3, 4, 5, 6])\n",
    "intersection = np.intersect1d(array1, array2)\n",
    "print(\"Intersection of arrays:\", intersection)\n"
   ]
  },
  {
   "cell_type": "markdown",
   "metadata": {
    "id": "zno1f7QYPMXc"
   },
   "source": [
    "### Pandas Introduction"
   ]
  },
  {
   "cell_type": "code",
   "execution_count": 11,
   "metadata": {
    "colab": {
     "base_uri": "https://localhost:8080/",
     "height": 143
    },
    "id": "Iz_SqEqLPIMD",
    "outputId": "c8e08f80-af73-4f4e-cbf9-3dbd861a845b"
   },
   "outputs": [
    {
     "data": {
      "application/vnd.google.colaboratory.intrinsic+json": {
       "summary": "{\n  \"name\": \"myvar\",\n  \"rows\": 3,\n  \"fields\": [\n    {\n      \"column\": \"cars\",\n      \"properties\": {\n        \"dtype\": \"string\",\n        \"num_unique_values\": 3,\n        \"samples\": [\n          \"BMW\",\n          \"Volvo\",\n          \"Ford\"\n        ],\n        \"semantic_type\": \"\",\n        \"description\": \"\"\n      }\n    },\n    {\n      \"column\": \"passings\",\n      \"properties\": {\n        \"dtype\": \"number\",\n        \"std\": 2,\n        \"min\": 2,\n        \"max\": 7,\n        \"num_unique_values\": 3,\n        \"samples\": [\n          3,\n          7,\n          2\n        ],\n        \"semantic_type\": \"\",\n        \"description\": \"\"\n      }\n    }\n  ]\n}",
       "type": "dataframe",
       "variable_name": "myvar"
      },
      "text/html": [
       "\n",
       "  <div id=\"df-56b0e40a-3b4a-4963-ac4e-c57b1c4d93df\" class=\"colab-df-container\">\n",
       "    <div>\n",
       "<style scoped>\n",
       "    .dataframe tbody tr th:only-of-type {\n",
       "        vertical-align: middle;\n",
       "    }\n",
       "\n",
       "    .dataframe tbody tr th {\n",
       "        vertical-align: top;\n",
       "    }\n",
       "\n",
       "    .dataframe thead th {\n",
       "        text-align: right;\n",
       "    }\n",
       "</style>\n",
       "<table border=\"1\" class=\"dataframe\">\n",
       "  <thead>\n",
       "    <tr style=\"text-align: right;\">\n",
       "      <th></th>\n",
       "      <th>cars</th>\n",
       "      <th>passings</th>\n",
       "    </tr>\n",
       "  </thead>\n",
       "  <tbody>\n",
       "    <tr>\n",
       "      <th>0</th>\n",
       "      <td>BMW</td>\n",
       "      <td>3</td>\n",
       "    </tr>\n",
       "    <tr>\n",
       "      <th>1</th>\n",
       "      <td>Volvo</td>\n",
       "      <td>7</td>\n",
       "    </tr>\n",
       "    <tr>\n",
       "      <th>2</th>\n",
       "      <td>Ford</td>\n",
       "      <td>2</td>\n",
       "    </tr>\n",
       "  </tbody>\n",
       "</table>\n",
       "</div>\n",
       "    <div class=\"colab-df-buttons\">\n",
       "\n",
       "  <div class=\"colab-df-container\">\n",
       "    <button class=\"colab-df-convert\" onclick=\"convertToInteractive('df-56b0e40a-3b4a-4963-ac4e-c57b1c4d93df')\"\n",
       "            title=\"Convert this dataframe to an interactive table.\"\n",
       "            style=\"display:none;\">\n",
       "\n",
       "  <svg xmlns=\"http://www.w3.org/2000/svg\" height=\"24px\" viewBox=\"0 -960 960 960\">\n",
       "    <path d=\"M120-120v-720h720v720H120Zm60-500h600v-160H180v160Zm220 220h160v-160H400v160Zm0 220h160v-160H400v160ZM180-400h160v-160H180v160Zm440 0h160v-160H620v160ZM180-180h160v-160H180v160Zm440 0h160v-160H620v160Z\"/>\n",
       "  </svg>\n",
       "    </button>\n",
       "\n",
       "  <style>\n",
       "    .colab-df-container {\n",
       "      display:flex;\n",
       "      gap: 12px;\n",
       "    }\n",
       "\n",
       "    .colab-df-convert {\n",
       "      background-color: #E8F0FE;\n",
       "      border: none;\n",
       "      border-radius: 50%;\n",
       "      cursor: pointer;\n",
       "      display: none;\n",
       "      fill: #1967D2;\n",
       "      height: 32px;\n",
       "      padding: 0 0 0 0;\n",
       "      width: 32px;\n",
       "    }\n",
       "\n",
       "    .colab-df-convert:hover {\n",
       "      background-color: #E2EBFA;\n",
       "      box-shadow: 0px 1px 2px rgba(60, 64, 67, 0.3), 0px 1px 3px 1px rgba(60, 64, 67, 0.15);\n",
       "      fill: #174EA6;\n",
       "    }\n",
       "\n",
       "    .colab-df-buttons div {\n",
       "      margin-bottom: 4px;\n",
       "    }\n",
       "\n",
       "    [theme=dark] .colab-df-convert {\n",
       "      background-color: #3B4455;\n",
       "      fill: #D2E3FC;\n",
       "    }\n",
       "\n",
       "    [theme=dark] .colab-df-convert:hover {\n",
       "      background-color: #434B5C;\n",
       "      box-shadow: 0px 1px 3px 1px rgba(0, 0, 0, 0.15);\n",
       "      filter: drop-shadow(0px 1px 2px rgba(0, 0, 0, 0.3));\n",
       "      fill: #FFFFFF;\n",
       "    }\n",
       "  </style>\n",
       "\n",
       "    <script>\n",
       "      const buttonEl =\n",
       "        document.querySelector('#df-56b0e40a-3b4a-4963-ac4e-c57b1c4d93df button.colab-df-convert');\n",
       "      buttonEl.style.display =\n",
       "        google.colab.kernel.accessAllowed ? 'block' : 'none';\n",
       "\n",
       "      async function convertToInteractive(key) {\n",
       "        const element = document.querySelector('#df-56b0e40a-3b4a-4963-ac4e-c57b1c4d93df');\n",
       "        const dataTable =\n",
       "          await google.colab.kernel.invokeFunction('convertToInteractive',\n",
       "                                                    [key], {});\n",
       "        if (!dataTable) return;\n",
       "\n",
       "        const docLinkHtml = 'Like what you see? Visit the ' +\n",
       "          '<a target=\"_blank\" href=https://colab.research.google.com/notebooks/data_table.ipynb>data table notebook</a>'\n",
       "          + ' to learn more about interactive tables.';\n",
       "        element.innerHTML = '';\n",
       "        dataTable['output_type'] = 'display_data';\n",
       "        await google.colab.output.renderOutput(dataTable, element);\n",
       "        const docLink = document.createElement('div');\n",
       "        docLink.innerHTML = docLinkHtml;\n",
       "        element.appendChild(docLink);\n",
       "      }\n",
       "    </script>\n",
       "  </div>\n",
       "\n",
       "\n",
       "<div id=\"df-c34aafdf-0c59-42f5-80bd-cb6c297c040e\">\n",
       "  <button class=\"colab-df-quickchart\" onclick=\"quickchart('df-c34aafdf-0c59-42f5-80bd-cb6c297c040e')\"\n",
       "            title=\"Suggest charts\"\n",
       "            style=\"display:none;\">\n",
       "\n",
       "<svg xmlns=\"http://www.w3.org/2000/svg\" height=\"24px\"viewBox=\"0 0 24 24\"\n",
       "     width=\"24px\">\n",
       "    <g>\n",
       "        <path d=\"M19 3H5c-1.1 0-2 .9-2 2v14c0 1.1.9 2 2 2h14c1.1 0 2-.9 2-2V5c0-1.1-.9-2-2-2zM9 17H7v-7h2v7zm4 0h-2V7h2v10zm4 0h-2v-4h2v4z\"/>\n",
       "    </g>\n",
       "</svg>\n",
       "  </button>\n",
       "\n",
       "<style>\n",
       "  .colab-df-quickchart {\n",
       "      --bg-color: #E8F0FE;\n",
       "      --fill-color: #1967D2;\n",
       "      --hover-bg-color: #E2EBFA;\n",
       "      --hover-fill-color: #174EA6;\n",
       "      --disabled-fill-color: #AAA;\n",
       "      --disabled-bg-color: #DDD;\n",
       "  }\n",
       "\n",
       "  [theme=dark] .colab-df-quickchart {\n",
       "      --bg-color: #3B4455;\n",
       "      --fill-color: #D2E3FC;\n",
       "      --hover-bg-color: #434B5C;\n",
       "      --hover-fill-color: #FFFFFF;\n",
       "      --disabled-bg-color: #3B4455;\n",
       "      --disabled-fill-color: #666;\n",
       "  }\n",
       "\n",
       "  .colab-df-quickchart {\n",
       "    background-color: var(--bg-color);\n",
       "    border: none;\n",
       "    border-radius: 50%;\n",
       "    cursor: pointer;\n",
       "    display: none;\n",
       "    fill: var(--fill-color);\n",
       "    height: 32px;\n",
       "    padding: 0;\n",
       "    width: 32px;\n",
       "  }\n",
       "\n",
       "  .colab-df-quickchart:hover {\n",
       "    background-color: var(--hover-bg-color);\n",
       "    box-shadow: 0 1px 2px rgba(60, 64, 67, 0.3), 0 1px 3px 1px rgba(60, 64, 67, 0.15);\n",
       "    fill: var(--button-hover-fill-color);\n",
       "  }\n",
       "\n",
       "  .colab-df-quickchart-complete:disabled,\n",
       "  .colab-df-quickchart-complete:disabled:hover {\n",
       "    background-color: var(--disabled-bg-color);\n",
       "    fill: var(--disabled-fill-color);\n",
       "    box-shadow: none;\n",
       "  }\n",
       "\n",
       "  .colab-df-spinner {\n",
       "    border: 2px solid var(--fill-color);\n",
       "    border-color: transparent;\n",
       "    border-bottom-color: var(--fill-color);\n",
       "    animation:\n",
       "      spin 1s steps(1) infinite;\n",
       "  }\n",
       "\n",
       "  @keyframes spin {\n",
       "    0% {\n",
       "      border-color: transparent;\n",
       "      border-bottom-color: var(--fill-color);\n",
       "      border-left-color: var(--fill-color);\n",
       "    }\n",
       "    20% {\n",
       "      border-color: transparent;\n",
       "      border-left-color: var(--fill-color);\n",
       "      border-top-color: var(--fill-color);\n",
       "    }\n",
       "    30% {\n",
       "      border-color: transparent;\n",
       "      border-left-color: var(--fill-color);\n",
       "      border-top-color: var(--fill-color);\n",
       "      border-right-color: var(--fill-color);\n",
       "    }\n",
       "    40% {\n",
       "      border-color: transparent;\n",
       "      border-right-color: var(--fill-color);\n",
       "      border-top-color: var(--fill-color);\n",
       "    }\n",
       "    60% {\n",
       "      border-color: transparent;\n",
       "      border-right-color: var(--fill-color);\n",
       "    }\n",
       "    80% {\n",
       "      border-color: transparent;\n",
       "      border-right-color: var(--fill-color);\n",
       "      border-bottom-color: var(--fill-color);\n",
       "    }\n",
       "    90% {\n",
       "      border-color: transparent;\n",
       "      border-bottom-color: var(--fill-color);\n",
       "    }\n",
       "  }\n",
       "</style>\n",
       "\n",
       "  <script>\n",
       "    async function quickchart(key) {\n",
       "      const quickchartButtonEl =\n",
       "        document.querySelector('#' + key + ' button');\n",
       "      quickchartButtonEl.disabled = true;  // To prevent multiple clicks.\n",
       "      quickchartButtonEl.classList.add('colab-df-spinner');\n",
       "      try {\n",
       "        const charts = await google.colab.kernel.invokeFunction(\n",
       "            'suggestCharts', [key], {});\n",
       "      } catch (error) {\n",
       "        console.error('Error during call to suggestCharts:', error);\n",
       "      }\n",
       "      quickchartButtonEl.classList.remove('colab-df-spinner');\n",
       "      quickchartButtonEl.classList.add('colab-df-quickchart-complete');\n",
       "    }\n",
       "    (() => {\n",
       "      let quickchartButtonEl =\n",
       "        document.querySelector('#df-c34aafdf-0c59-42f5-80bd-cb6c297c040e button');\n",
       "      quickchartButtonEl.style.display =\n",
       "        google.colab.kernel.accessAllowed ? 'block' : 'none';\n",
       "    })();\n",
       "  </script>\n",
       "</div>\n",
       "\n",
       "  <div id=\"id_76f76523-38e2-429c-bcbc-e387984ee0a1\">\n",
       "    <style>\n",
       "      .colab-df-generate {\n",
       "        background-color: #E8F0FE;\n",
       "        border: none;\n",
       "        border-radius: 50%;\n",
       "        cursor: pointer;\n",
       "        display: none;\n",
       "        fill: #1967D2;\n",
       "        height: 32px;\n",
       "        padding: 0 0 0 0;\n",
       "        width: 32px;\n",
       "      }\n",
       "\n",
       "      .colab-df-generate:hover {\n",
       "        background-color: #E2EBFA;\n",
       "        box-shadow: 0px 1px 2px rgba(60, 64, 67, 0.3), 0px 1px 3px 1px rgba(60, 64, 67, 0.15);\n",
       "        fill: #174EA6;\n",
       "      }\n",
       "\n",
       "      [theme=dark] .colab-df-generate {\n",
       "        background-color: #3B4455;\n",
       "        fill: #D2E3FC;\n",
       "      }\n",
       "\n",
       "      [theme=dark] .colab-df-generate:hover {\n",
       "        background-color: #434B5C;\n",
       "        box-shadow: 0px 1px 3px 1px rgba(0, 0, 0, 0.15);\n",
       "        filter: drop-shadow(0px 1px 2px rgba(0, 0, 0, 0.3));\n",
       "        fill: #FFFFFF;\n",
       "      }\n",
       "    </style>\n",
       "    <button class=\"colab-df-generate\" onclick=\"generateWithVariable('myvar')\"\n",
       "            title=\"Generate code using this dataframe.\"\n",
       "            style=\"display:none;\">\n",
       "\n",
       "  <svg xmlns=\"http://www.w3.org/2000/svg\" height=\"24px\"viewBox=\"0 0 24 24\"\n",
       "       width=\"24px\">\n",
       "    <path d=\"M7,19H8.4L18.45,9,17,7.55,7,17.6ZM5,21V16.75L18.45,3.32a2,2,0,0,1,2.83,0l1.4,1.43a1.91,1.91,0,0,1,.58,1.4,1.91,1.91,0,0,1-.58,1.4L9.25,21ZM18.45,9,17,7.55Zm-12,3A5.31,5.31,0,0,0,4.9,8.1,5.31,5.31,0,0,0,1,6.5,5.31,5.31,0,0,0,4.9,4.9,5.31,5.31,0,0,0,6.5,1,5.31,5.31,0,0,0,8.1,4.9,5.31,5.31,0,0,0,12,6.5,5.46,5.46,0,0,0,6.5,12Z\"/>\n",
       "  </svg>\n",
       "    </button>\n",
       "    <script>\n",
       "      (() => {\n",
       "      const buttonEl =\n",
       "        document.querySelector('#id_76f76523-38e2-429c-bcbc-e387984ee0a1 button.colab-df-generate');\n",
       "      buttonEl.style.display =\n",
       "        google.colab.kernel.accessAllowed ? 'block' : 'none';\n",
       "\n",
       "      buttonEl.onclick = () => {\n",
       "        google.colab.notebook.generateWithVariable('myvar');\n",
       "      }\n",
       "      })();\n",
       "    </script>\n",
       "  </div>\n",
       "\n",
       "    </div>\n",
       "  </div>\n"
      ],
      "text/plain": [
       "    cars  passings\n",
       "0    BMW         3\n",
       "1  Volvo         7\n",
       "2   Ford         2"
      ]
     },
     "execution_count": 11,
     "metadata": {},
     "output_type": "execute_result"
    }
   ],
   "source": [
    "import pandas as pd\n",
    "\n",
    "# Create a simple Pandas Series\n",
    "mydataset = {\n",
    "  'cars': [\"BMW\", \"Volvo\", \"Ford\"],\n",
    "  'passings': [3, 7, 2]\n",
    "}\n",
    "\n",
    "myvar = pd.DataFrame(mydataset)\n",
    "\n",
    "myvar"
   ]
  },
  {
   "cell_type": "markdown",
   "metadata": {
    "id": "SgPOMNGFPkTZ"
   },
   "source": [
    "### Pandas Series"
   ]
  },
  {
   "cell_type": "code",
   "execution_count": 12,
   "metadata": {
    "colab": {
     "base_uri": "https://localhost:8080/",
     "height": 442
    },
    "id": "gsdMLe0TPfS5",
    "outputId": "b2852fd4-957e-49be-af1a-2d68b570591c"
   },
   "outputs": [
    {
     "name": "stdout",
     "output_type": "stream",
     "text": [
      "\n",
      "Create labels:\n",
      "x    1\n",
      "y    7\n",
      "z    2\n",
      "dtype: int64\n",
      "\n",
      "Accessing an item:\n",
      "7\n",
      "\n",
      "Key/Value Objects as Series\n",
      "day1    420\n",
      "day2    380\n",
      "day3    390\n",
      "dtype: int64\n",
      "\n",
      "Create a Series using only data from 'day1' and 'day2'\n"
     ]
    },
    {
     "data": {
      "text/html": [
       "<div>\n",
       "<style scoped>\n",
       "    .dataframe tbody tr th:only-of-type {\n",
       "        vertical-align: middle;\n",
       "    }\n",
       "\n",
       "    .dataframe tbody tr th {\n",
       "        vertical-align: top;\n",
       "    }\n",
       "\n",
       "    .dataframe thead th {\n",
       "        text-align: right;\n",
       "    }\n",
       "</style>\n",
       "<table border=\"1\" class=\"dataframe\">\n",
       "  <thead>\n",
       "    <tr style=\"text-align: right;\">\n",
       "      <th></th>\n",
       "      <th>0</th>\n",
       "    </tr>\n",
       "  </thead>\n",
       "  <tbody>\n",
       "    <tr>\n",
       "      <th>day1</th>\n",
       "      <td>420</td>\n",
       "    </tr>\n",
       "    <tr>\n",
       "      <th>day2</th>\n",
       "      <td>380</td>\n",
       "    </tr>\n",
       "  </tbody>\n",
       "</table>\n",
       "</div><br><label><b>dtype:</b> int64</label>"
      ],
      "text/plain": [
       "day1    420\n",
       "day2    380\n",
       "dtype: int64"
      ]
     },
     "execution_count": 12,
     "metadata": {},
     "output_type": "execute_result"
    }
   ],
   "source": [
    "\n",
    "import pandas as pd\n",
    "\n",
    "# Create a simple Pandas Series from a list\n",
    "a = [1, 7, 2]\n",
    "myvar = pd.Series(a)\n",
    "myvar\n",
    "\n",
    "# Create labels\n",
    "print(\"\\nCreate labels:\")\n",
    "myvar = pd.Series(a, index = [\"x\", \"y\", \"z\"])\n",
    "print(myvar)\n",
    "\n",
    "# Accessing an item\n",
    "print(\"\\nAccessing an item:\")\n",
    "print(myvar[\"y\"])\n",
    "\n",
    "# Key/Value Objects as Series\n",
    "print(\"\\nKey/Value Objects as Series\")\n",
    "calories = {\"day1\": 420, \"day2\": 380, \"day3\": 390}\n",
    "myvar = pd.Series(calories)\n",
    "print(myvar)\n",
    "\n",
    "# Create a Series using only data from \"day1\" and \"day2\"\n",
    "print(\"\\nCreate a Series using only data from 'day1' and 'day2'\")\n",
    "myvar = pd.Series(calories, index = [\"day1\", \"day2\"])\n",
    "myvar"
   ]
  },
  {
   "cell_type": "markdown",
   "metadata": {
    "id": "jhea1oREOgVQ"
   },
   "source": [
    "### Pandas Dataframe"
   ]
  },
  {
   "cell_type": "code",
   "execution_count": 10,
   "metadata": {
    "colab": {
     "base_uri": "https://localhost:8080/"
    },
    "id": "huh070zuNQOP",
    "outputId": "68ea7648-8eb1-4f61-86e3-93a75d1a547c"
   },
   "outputs": [
    {
     "name": "stdout",
     "output_type": "stream",
     "text": [
      "calories    420\n",
      "duration     50\n",
      "Name: 0, dtype: int64\n",
      "   calories  duration\n",
      "0       420        50\n",
      "1       380        40\n",
      "calories    380\n",
      "duration     40\n",
      "Name: day2, dtype: int64\n"
     ]
    }
   ],
   "source": [
    "import pandas as pd\n",
    "\n",
    "\n",
    "# Create a simple Pandas DataFrame:\n",
    "data = {\n",
    "  \"calories\": [420, 380, 390],\n",
    "  \"duration\": [50, 40, 45]\n",
    "}\n",
    "\n",
    "#load data into a DataFrame object:\n",
    "df = pd.DataFrame(data)\n",
    "df\n",
    "\n",
    "#refer to the row index:\n",
    "print(df.loc[0])\n",
    "\n",
    "#use a list of indexes:\n",
    "print(df.loc[[0, 1]])\n",
    "\n",
    "import pandas as pd\n",
    "\n",
    "data = {\n",
    "  \"calories\": [420, 380, 390],\n",
    "  \"duration\": [50, 40, 45]\n",
    "}\n",
    "\n",
    "df = pd.DataFrame(data, index = [\"day1\", \"day2\", \"day3\"])\n",
    "\n",
    "\n",
    "#refer to the named index:\n",
    "print(df.loc[\"day2\"])"
   ]
  },
  {
   "cell_type": "markdown",
   "metadata": {
    "id": "kP8kDRKUSmvX"
   },
   "source": [
    "### Pandas Read CSV"
   ]
  },
  {
   "cell_type": "code",
   "execution_count": null,
   "metadata": {
    "id": "BgFZav9sN_E4"
   },
   "outputs": [],
   "source": [
    "import pandas as pd\n",
    "\n",
    "# ### Pandas Introduction\n",
    "#This part is already in the provided code.\n",
    "\n",
    "\n",
    "# ### Pandas Series\n",
    "#This part is already in the provided code.\n",
    "\n",
    "\n",
    "# ### Pandas Dataframe\n",
    "#This part is already in the provided code.\n",
    "\n",
    "# Load a CSV file into a Pandas DataFrame\n",
    "df = pd.read_csv('data.csv') #Replace 'data.csv' with your file path\n",
    "\n",
    "print(df.to_string()) #Print the entire DataFrame\n",
    "\n",
    "#Print the first 5 rows of the DataFrame\n",
    "print(df.head())\n",
    "\n",
    "#Print the last 5 rows of the DataFrame\n",
    "print(df.tail())\n",
    "\n",
    "#Print information about the DataFrame\n",
    "print(df.info())\n",
    "\n",
    "\n",
    "#Read a specific number of rows\n",
    "df = pd.read_csv('data.csv', nrows=5)\n",
    "print(df.to_string())\n",
    "\n",
    "\n",
    "#Print max rows\n",
    "pd.options.display.max_rows = 9999\n",
    "df = pd.read_csv('data.csv')\n",
    "df"
   ]
  },
  {
   "cell_type": "markdown",
   "metadata": {
    "id": "KVY0UrBzSa7c"
   },
   "source": [
    "### Pandas Read JSON"
   ]
  },
  {
   "cell_type": "code",
   "execution_count": null,
   "metadata": {
    "id": "j7ETbdluQ9ZT"
   },
   "outputs": [],
   "source": [
    "# prompt: copy all examples code from https://www.w3schools.com/python/pandas/pandas_json.asp\n",
    "\n",
    "import pandas as pd\n",
    "\n",
    "# Load a JSON file into a Pandas DataFrame\n",
    "df = pd.read_json('data.json')\n",
    "\n",
    "print(df.to_string())\n",
    "\n",
    "\n",
    "# Dictionary as JSON\n",
    "data = {\n",
    "  \"Duration\":{\n",
    "    \"0\":60,\n",
    "    \"1\":60,\n",
    "    \"2\":60,\n",
    "    \"3\":45,\n",
    "    \"4\":45,\n",
    "    \"5\":60\n",
    "  },\n",
    "  \"Pulse\":{\n",
    "    \"0\":110,\n",
    "    \"1\":117,\n",
    "    \"2\":103,\n",
    "    \"3\":109,\n",
    "    \"4\":117,\n",
    "    \"5\":102\n",
    "  },\n",
    "  \"Maxpulse\":{\n",
    "    \"0\":130,\n",
    "    \"1\":145,\n",
    "    \"2\":135,\n",
    "    \"3\":175,\n",
    "    \"4\":148,\n",
    "    \"5\":127\n",
    "  },\n",
    "  \"Calories\":{\n",
    "    \"0\":409,\n",
    "    \"1\":479,\n",
    "    \"2\":340,\n",
    "    \"3\":282,\n",
    "    \"4\":406,\n",
    "    \"5\":300\n",
    "  }\n",
    "}\n",
    "\n",
    "df = pd.DataFrame(data)\n",
    "df"
   ]
  },
  {
   "cell_type": "markdown",
   "metadata": {
    "id": "utb3frDkSWQK"
   },
   "source": [
    "### Pandas - Analyzing DataFrames"
   ]
  },
  {
   "cell_type": "code",
   "execution_count": null,
   "metadata": {
    "id": "0VvWqkI6Ts8O"
   },
   "outputs": [],
   "source": [
    "# printing the first 10 rows of the DataFrame:\n",
    "\n",
    "import pandas as pd\n",
    "df = pd.read_csv('data.csv')\n",
    "print(df.head(10))\n",
    "\n",
    "# Print the first 5 rows of the DataFrame:\n",
    "df = pd.read_csv('data.csv')\n",
    "print(df.head())\n",
    "\n",
    "# Print the last 5 rows of the DataFrame:\n",
    "print(df.tail())\n",
    "\n",
    "# Print information about the data:\n",
    "print(df.info())"
   ]
  },
  {
   "cell_type": "markdown",
   "metadata": {
    "id": "9XFcBHaoTt1z"
   },
   "source": [
    "### Pandas - Cleaning Empty Cells"
   ]
  },
  {
   "cell_type": "code",
   "execution_count": null,
   "metadata": {
    "id": "pQMCHGgYTxwD"
   },
   "outputs": [],
   "source": [
    "# Return a new Data Frame with no empty cells:\n",
    "\n",
    "import pandas as pd\n",
    "df = pd.read_csv('data.csv')\n",
    "new_df = df.dropna()\n",
    "print(new_df.to_string())\n",
    "\n",
    "\n",
    "# Remove all rows with NULL values:\n",
    "df = pd.read_csv('data.csv')\n",
    "df.dropna(inplace = True)\n",
    "print(df.to_string())\n",
    "\n",
    "# Replace NULL values with the number 130:\n",
    "df = pd.read_csv('data.csv')\n",
    "df.fillna(130, inplace = True)\n",
    "\n",
    "# Replace NULL values in the \"Calories\" columns with the number 130:\n",
    "df = pd.read_csv('data.csv')\n",
    "df[\"Calories\"].fillna(130, inplace = True)\n",
    "\n",
    "# Calculate the MEAN, and replace any empty values with it:\n",
    "df = pd.read_csv('data.csv')\n",
    "x = df[\"Calories\"].mean()\n",
    "df[\"Calories\"].fillna(x, inplace = True)\n",
    "\n",
    "# Calculate the MEDIAN, and replace any empty values with it:\n",
    "df = pd.read_csv('data.csv')\n",
    "x = df[\"Calories\"].median()\n",
    "df[\"Calories\"].fillna(x, inplace = True)\n",
    "\n",
    "# Calculate the MODE, and replace any empty values with it:\n",
    "df = pd.read_csv('data.csv')\n",
    "x = df[\"Calories\"].mode()[0]\n",
    "df[\"Calories\"].fillna(x, inplace = True)"
   ]
  },
  {
   "cell_type": "markdown",
   "metadata": {
    "id": "n5hi8b5NUgyE"
   },
   "source": [
    "### Pandas - Cleaning Data of Wrong Format"
   ]
  },
  {
   "cell_type": "code",
   "execution_count": null,
   "metadata": {
    "id": "pA5F3COiUhos"
   },
   "outputs": [],
   "source": [
    "# Convert to date:\n",
    "import pandas as pd\n",
    "df = pd.read_csv('data.csv')\n",
    "df['Date'] = pd.to_datetime(df['Date'])\n",
    "print(df.to_string())\n",
    "\n",
    "# Remove rows with a NULL value in the \"Date\" column:\n",
    "df.dropna(subset=['Date'], inplace = True)"
   ]
  },
  {
   "cell_type": "markdown",
   "metadata": {
    "id": "cklEN_TBU2iG"
   },
   "source": [
    "### Pandas - Fixing Wrong Data"
   ]
  },
  {
   "cell_type": "code",
   "execution_count": null,
   "metadata": {
    "id": "tEEM54qOU3a_"
   },
   "outputs": [],
   "source": [
    "# Set \"Duration\" = 45 in row 7:\n",
    "df.loc[7, 'Duration'] = 45\n",
    "\n",
    "# Loop through all values in the \"Duration\" column.\n",
    "# If the value is higher than 120, set it to 120:\n",
    "\n",
    "for x in df.index:\n",
    "  if df.loc[x, \"Duration\"] > 120:\n",
    "    df.loc[x, \"Duration\"] = 120\n",
    "\n",
    "# Delete rows where \"Duration\" is higher than 120:\n",
    "\n",
    "for x in df.index:\n",
    "  if df.loc[x, \"Duration\"] > 120:\n",
    "    df.drop(x, inplace = True)"
   ]
  },
  {
   "cell_type": "markdown",
   "metadata": {
    "id": "_cTtflrEU5oV"
   },
   "source": [
    "### Pandas - Removing Duplicates"
   ]
  },
  {
   "cell_type": "code",
   "execution_count": null,
   "metadata": {
    "id": "3BGOlwujWCSc"
   },
   "outputs": [],
   "source": [
    "# Returns True for every row that is a duplicate, otherwise False:\n",
    "print(df.duplicated())\n",
    "\n",
    "# Remove all duplicates:\n",
    "df.drop_duplicates(inplace = True)"
   ]
  },
  {
   "cell_type": "markdown",
   "metadata": {
    "id": "OipVbDcgWQ3F"
   },
   "source": [
    "### Pandas - Data Correlations"
   ]
  },
  {
   "cell_type": "code",
   "execution_count": null,
   "metadata": {
    "id": "6MGz1-epWSAS"
   },
   "outputs": [],
   "source": [
    "# Show the relationship between the columns:\n",
    "df.corr()"
   ]
  },
  {
   "cell_type": "markdown",
   "metadata": {
    "id": "l5asAb8wWcxO"
   },
   "source": [
    "### Pandas - Plotting"
   ]
  },
  {
   "cell_type": "code",
   "execution_count": null,
   "metadata": {
    "id": "NWUWtPRgWdYA"
   },
   "outputs": [],
   "source": [
    "# Import pyplot from Matplotlib and visualize our DataFrame:\n",
    "import pandas as pd\n",
    "import matplotlib.pyplot as plt\n",
    "\n",
    "df = pd.read_csv('data.csv')\n",
    "df.plot()\n",
    "plt.show()"
   ]
  },
  {
   "cell_type": "markdown",
   "metadata": {
    "id": "PPq0gT8xWoZu"
   },
   "source": [
    "#### Scatter Plot"
   ]
  },
  {
   "cell_type": "code",
   "execution_count": 14,
   "metadata": {
    "id": "HP8F_6ieWwW3"
   },
   "outputs": [],
   "source": [
    "import pandas as pd\n",
    "import matplotlib.pyplot as plt\n",
    "\n",
    "df = pd.read_csv('data.csv')\n",
    "df.plot(kind = 'scatter', x = 'Duration', y = 'Calories')\n",
    "plt.show()\n",
    "\n",
    "# A scatterplot where there are no relationship between the columns:\n",
    "df = pd.read_csv('data.csv')\n",
    "df.plot(kind = 'scatter', x = 'Duration', y = 'Maxpulse')\n",
    "plt.show()"
   ]
  },
  {
   "cell_type": "markdown",
   "metadata": {
    "id": "1PMtw723W77j"
   },
   "source": [
    "#### Historgram"
   ]
  },
  {
   "cell_type": "code",
   "execution_count": null,
   "metadata": {
    "id": "-dbFEOSKW9PS"
   },
   "outputs": [],
   "source": [
    "df[\"Duration\"].plot(kind = 'hist')\n",
    "\n"
   ]
  },
  {
   "cell_type": "markdown",
   "metadata": {
    "id": "BEFc4CPVWFa2"
   },
   "source": [
    "1. SciPy Home"
   ]
  },
  {
   "cell_type": "code",
   "execution_count": 1,
   "metadata": {
    "colab": {
     "base_uri": "https://localhost:8080/"
    },
    "id": "H_VczaeuW4Zs",
    "outputId": "f0033b40-b540-407f-f773-4a4c54a6c0e0"
   },
   "outputs": [
    {
     "name": "stdout",
     "output_type": "stream",
     "text": [
      "Welcome to SciPy!\n",
      "SciPy version: 1.13.1\n"
     ]
    }
   ],
   "source": [
    "# Import SciPy and check the version\n",
    "import scipy\n",
    "print(\"Welcome to SciPy!\")\n",
    "print(\"SciPy version:\", scipy.__version__)\n"
   ]
  },
  {
   "cell_type": "markdown",
   "metadata": {
    "id": "rgqt892GW9nz"
   },
   "source": [
    "2. SciPy Intro"
   ]
  },
  {
   "cell_type": "code",
   "execution_count": 2,
   "metadata": {
    "colab": {
     "base_uri": "https://localhost:8080/"
    },
    "id": "h-iU_N0hW_0c",
    "outputId": "bad7f2df-9b8b-4d5a-b5c1-f2ed1cb7ce34"
   },
   "outputs": [
    {
     "name": "stdout",
     "output_type": "stream",
     "text": [
      "SciPy is a Python library used for scientific and technical computing.\n"
     ]
    }
   ],
   "source": [
    "# Simple intro message about SciPy\n",
    "print(\"SciPy is a Python library used for scientific and technical computing.\")\n"
   ]
  },
  {
   "cell_type": "markdown",
   "metadata": {
    "id": "p8I6TIKuXIMz"
   },
   "source": [
    "3. SciPy Getting Started"
   ]
  },
  {
   "cell_type": "code",
   "execution_count": 3,
   "metadata": {
    "colab": {
     "base_uri": "https://localhost:8080/"
    },
    "id": "60mPj8bBXKrF",
    "outputId": "f1bf0380-49f6-4906-c327-59a6e7992201"
   },
   "outputs": [
    {
     "name": "stdout",
     "output_type": "stream",
     "text": [
      "Basic usage example: Speed of light is 299792458.0 m/s\n"
     ]
    }
   ],
   "source": [
    "# Basic usage example with SciPy\n",
    "from scipy import constants\n",
    "print(\"Basic usage example: Speed of light is\", constants.c, \"m/s\")\n"
   ]
  },
  {
   "cell_type": "markdown",
   "metadata": {
    "id": "GagyoC_AXOgE"
   },
   "source": [
    "4. SciPy Constants"
   ]
  },
  {
   "cell_type": "code",
   "execution_count": 4,
   "metadata": {
    "colab": {
     "base_uri": "https://localhost:8080/"
    },
    "id": "Yig2jw2WXSkF",
    "outputId": "3afb20bd-024f-4b3c-b868-4d4f4cb1a84f"
   },
   "outputs": [
    {
     "name": "stdout",
     "output_type": "stream",
     "text": [
      "Speed of Light: 299792458.0 m/s\n",
      "Planck's Constant: 6.62607015e-34 J s\n",
      "Gravitational Constant: 6.6743e-11 m^3 kg^-1 s^-2\n"
     ]
    }
   ],
   "source": [
    "from scipy import constants\n",
    "# Print some physical constants\n",
    "print(\"Speed of Light:\", constants.c, \"m/s\")\n",
    "print(\"Planck's Constant:\", constants.h, \"J s\")\n",
    "print(\"Gravitational Constant:\", constants.G, \"m^3 kg^-1 s^-2\")\n"
   ]
  },
  {
   "cell_type": "markdown",
   "metadata": {
    "id": "XbrzcDwkXXxm"
   },
   "source": [
    "5. SciPy Optimizers"
   ]
  },
  {
   "cell_type": "code",
   "execution_count": 5,
   "metadata": {
    "colab": {
     "base_uri": "https://localhost:8080/"
    },
    "id": "fAddWgwEXZWG",
    "outputId": "5d9f1d09-7198-45bb-af0e-d4b74d58c417"
   },
   "outputs": [
    {
     "name": "stdout",
     "output_type": "stream",
     "text": [
      "Optimization Result:   message: Optimization terminated successfully.\n",
      "  success: True\n",
      "   status: 0\n",
      "      fun: 0.0\n",
      "        x: [-1.000e+00]\n",
      "      nit: 2\n",
      "      jac: [ 0.000e+00]\n",
      " hess_inv: [[ 5.000e-01]]\n",
      "     nfev: 6\n",
      "     njev: 3\n"
     ]
    }
   ],
   "source": [
    "from scipy.optimize import minimize\n",
    "\n",
    "# Define a simple function to minimize\n",
    "def objective(x):\n",
    "    return x**2 + 2*x + 1\n",
    "\n",
    "# Minimize the function\n",
    "result = minimize(objective, x0=0)\n",
    "print(\"Optimization Result:\", result)\n"
   ]
  },
  {
   "cell_type": "markdown",
   "metadata": {
    "id": "J1kNBI74XeUX"
   },
   "source": [
    "6. SciPy Sparse Data"
   ]
  },
  {
   "cell_type": "code",
   "execution_count": 6,
   "metadata": {
    "colab": {
     "base_uri": "https://localhost:8080/"
    },
    "id": "OQXYuQl2XkDi",
    "outputId": "7da53346-bb08-4149-ef56-6eaa58696e01"
   },
   "outputs": [
    {
     "name": "stdout",
     "output_type": "stream",
     "text": [
      "Sparse Matrix:\n",
      "  (0, 2)\t1\n",
      "  (1, 0)\t1\n",
      "  (2, 2)\t2\n"
     ]
    }
   ],
   "source": [
    "from scipy.sparse import csr_matrix\n",
    "\n",
    "# Create a sparse matrix\n",
    "matrix = csr_matrix([[0, 0, 1], [1, 0, 0], [0, 0, 2]])\n",
    "print(\"Sparse Matrix:\")\n",
    "print(matrix)\n"
   ]
  },
  {
   "cell_type": "markdown",
   "metadata": {
    "id": "lUnx8Ft9Xm_z"
   },
   "source": [
    "7. SciPy Graphs"
   ]
  },
  {
   "cell_type": "code",
   "execution_count": 7,
   "metadata": {
    "colab": {
     "base_uri": "https://localhost:8080/",
     "height": 430
    },
    "id": "Kzvbx8kKXqwU",
    "outputId": "d985b874-478a-4c16-d10a-31454acaa90c"
   },
   "outputs": [
    {
     "data": {
      "image/png": "[encoded data removed]",
      "text/plain": [
       "<Figure size 640x480 with 1 Axes>"
      ]
     },
     "metadata": {},
     "output_type": "display_data"
    }
   ],
   "source": [
    "import matplotlib.pyplot as plt\n",
    "from scipy import interpolate\n",
    "import numpy as np\n",
    "\n",
    "# Create sample data\n",
    "x = np.arange(0, 10)\n",
    "y = np.sin(x)\n",
    "\n",
    "# Create an interpolation function\n",
    "f = interpolate.interp1d(x, y, kind='cubic')\n",
    "\n",
    "# Generate new data for a smoother curve\n",
    "x_new = np.linspace(0, 9, 100)\n",
    "y_new = f(x_new)\n",
    "\n",
    "# Plot the data\n",
    "plt.plot(x, y, 'o', label=\"Data\")\n",
    "plt.plot(x_new, y_new, '-', label=\"Interpolated\")\n",
    "plt.legend()\n",
    "plt.show()\n"
   ]
  },
  {
   "cell_type": "markdown",
   "metadata": {
    "id": "aKT5jUkXXv09"
   },
   "source": [
    "8. SciPy Spatial Data"
   ]
  },
  {
   "cell_type": "code",
   "execution_count": 8,
   "metadata": {
    "colab": {
     "base_uri": "https://localhost:8080/"
    },
    "id": "X8ZBBEixXxt-",
    "outputId": "1f413243-63f0-4ee7-e75b-c3f55e486205"
   },
   "outputs": [
    {
     "name": "stdout",
     "output_type": "stream",
     "text": [
      "Euclidean Distance: 5.0\n"
     ]
    }
   ],
   "source": [
    "from scipy.spatial import distance\n",
    "\n",
    "# Define two points in space\n",
    "point1 = [1, 2]\n",
    "point2 = [4, 6]\n",
    "\n",
    "# Calculate Euclidean distance between the points\n",
    "dist = distance.euclidean(point1, point2)\n",
    "print(\"Euclidean Distance:\", dist)\n"
   ]
  },
  {
   "cell_type": "markdown",
   "metadata": {
    "id": "XCN0juqPX3KV"
   },
   "source": [
    "9. SciPy Matlab Arrays"
   ]
  },
  {
   "cell_type": "code",
   "execution_count": 9,
   "metadata": {
    "colab": {
     "base_uri": "https://localhost:8080/"
    },
    "id": "Rzndug8bX6HN",
    "outputId": "51e00270-43c3-4cce-862a-9c8c9a7eae11"
   },
   "outputs": [
    {
     "name": "stdout",
     "output_type": "stream",
     "text": [
      "Loaded Data: {'__header__': b'MATLAB 5.0 MAT-file Platform: posix, Created on: Wed Oct 30 07:39:14 2024', '__version__': '1.0', '__globals__': [], 'array': array([[1, 2, 3]])}\n"
     ]
    }
   ],
   "source": [
    "from scipy.io import savemat, loadmat\n",
    "import numpy as np\n",
    "\n",
    "# Save a numpy array as a MATLAB file\n",
    "data = {'array': np.array([1, 2, 3])}\n",
    "savemat(\"example.mat\", data)\n",
    "\n",
    "# Load the MATLAB file\n",
    "loaded_data = loadmat(\"example.mat\")\n",
    "print(\"Loaded Data:\", loaded_data)\n"
   ]
  },
  {
   "cell_type": "markdown",
   "metadata": {
    "id": "ZBBwf80yX9_2"
   },
   "source": [
    "10. SciPy Interpolation"
   ]
  },
  {
   "cell_type": "code",
   "execution_count": 10,
   "metadata": {
    "colab": {
     "base_uri": "https://localhost:8080/"
    },
    "id": "yEVI7O6BYAml",
    "outputId": "a0683a17-8672-48fe-dfdf-ee3b82f4db9a"
   },
   "outputs": [
    {
     "name": "stdout",
     "output_type": "stream",
     "text": [
      "Interpolated values: [-0.95892427 -0.2794155   0.6569866 ]\n"
     ]
    }
   ],
   "source": [
    "from scipy import interpolate\n",
    "import numpy as np\n",
    "\n",
    "# Sample data\n",
    "x = np.arange(0, 10)\n",
    "y = np.sin(x)\n",
    "\n",
    "# Linear interpolation\n",
    "f = interpolate.interp1d(x, y)\n",
    "y_new = f([5, 6, 7])\n",
    "\n",
    "print(\"Interpolated values:\", y_new)\n"
   ]
  },
  {
   "cell_type": "markdown",
   "metadata": {
    "id": "x5dElz9EYD5W"
   },
   "source": [
    "11. SciPy Significance Tests"
   ]
  },
  {
   "cell_type": "code",
   "execution_count": 11,
   "metadata": {
    "colab": {
     "base_uri": "https://localhost:8080/"
    },
    "id": "vHY6cVBfYHFX",
    "outputId": "1a9779f1-ad13-48fd-aefa-eb77cca3ba53"
   },
   "outputs": [
    {
     "name": "stdout",
     "output_type": "stream",
     "text": [
      "T-statistic: -0.07295675402194443\n",
      "P-value: 0.9436316395251647\n"
     ]
    }
   ],
   "source": [
    "from scipy import stats\n",
    "\n",
    "# Generate random data\n",
    "data1 = [5, 10, 15, 20, 25]\n",
    "data2 = [6, 9, 14, 18, 30]\n",
    "\n",
    "# Perform a t-test\n",
    "t_stat, p_value = stats.ttest_ind(data1, data2)\n",
    "print(\"T-statistic:\", t_stat)\n",
    "print(\"P-value:\", p_value)\n"
   ]
  }
 ],
 "metadata": {
  "colab": {
   "provenance": []
  },
  "kernelspec": {
   "display_name": "Python 3",
   "name": "python3"
  },
  "language_info": {
   "name": "python"
  }
 },
 "nbformat": 4,
 "nbformat_minor": 0
}
