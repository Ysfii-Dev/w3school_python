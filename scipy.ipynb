{
  "nbformat": 4,
  "nbformat_minor": 0,
  "metadata": {
    "colab": {
      "provenance": []
    },
    "kernelspec": {
      "name": "python3",
      "display_name": "Python 3"
    },
    "language_info": {
      "name": "python"
    }
  },
  "cells": [
    {
      "cell_type": "markdown",
      "source": [
        "1. SciPy Home"
      ],
      "metadata": {
        "id": "BEFc4CPVWFa2"
      }
    },
    {
      "cell_type": "code",
      "source": [
        "# Import SciPy and check the version\n",
        "import scipy\n",
        "print(\"Welcome to SciPy!\")\n",
        "print(\"SciPy version:\", scipy.__version__)\n"
      ],
      "metadata": {
        "colab": {
          "base_uri": "https://localhost:8080/"
        },
        "id": "H_VczaeuW4Zs",
        "outputId": "f0033b40-b540-407f-f773-4a4c54a6c0e0"
      },
      "execution_count": 1,
      "outputs": [
        {
          "output_type": "stream",
          "name": "stdout",
          "text": [
            "Welcome to SciPy!\n",
            "SciPy version: 1.13.1\n"
          ]
        }
      ]
    },
    {
      "cell_type": "markdown",
      "source": [
        "2. SciPy Intro"
      ],
      "metadata": {
        "id": "rgqt892GW9nz"
      }
    },
    {
      "cell_type": "code",
      "source": [
        "# Simple intro message about SciPy\n",
        "print(\"SciPy is a Python library used for scientific and technical computing.\")\n"
      ],
      "metadata": {
        "colab": {
          "base_uri": "https://localhost:8080/"
        },
        "id": "h-iU_N0hW_0c",
        "outputId": "bad7f2df-9b8b-4d5a-b5c1-f2ed1cb7ce34"
      },
      "execution_count": 2,
      "outputs": [
        {
          "output_type": "stream",
          "name": "stdout",
          "text": [
            "SciPy is a Python library used for scientific and technical computing.\n"
          ]
        }
      ]
    },
    {
      "cell_type": "markdown",
      "source": [
        "3. SciPy Getting Started"
      ],
      "metadata": {
        "id": "p8I6TIKuXIMz"
      }
    },
    {
      "cell_type": "code",
      "source": [
        "# Basic usage example with SciPy\n",
        "from scipy import constants\n",
        "print(\"Basic usage example: Speed of light is\", constants.c, \"m/s\")\n"
      ],
      "metadata": {
        "colab": {
          "base_uri": "https://localhost:8080/"
        },
        "id": "60mPj8bBXKrF",
        "outputId": "f1bf0380-49f6-4906-c327-59a6e7992201"
      },
      "execution_count": 3,
      "outputs": [
        {
          "output_type": "stream",
          "name": "stdout",
          "text": [
            "Basic usage example: Speed of light is 299792458.0 m/s\n"
          ]
        }
      ]
    },
    {
      "cell_type": "markdown",
      "source": [
        "4. SciPy Constants"
      ],
      "metadata": {
        "id": "GagyoC_AXOgE"
      }
    },
    {
      "cell_type": "code",
      "source": [
        "from scipy import constants\n",
        "# Print some physical constants\n",
        "print(\"Speed of Light:\", constants.c, \"m/s\")\n",
        "print(\"Planck's Constant:\", constants.h, \"J s\")\n",
        "print(\"Gravitational Constant:\", constants.G, \"m^3 kg^-1 s^-2\")\n"
      ],
      "metadata": {
        "colab": {
          "base_uri": "https://localhost:8080/"
        },
        "id": "Yig2jw2WXSkF",
        "outputId": "3afb20bd-024f-4b3c-b868-4d4f4cb1a84f"
      },
      "execution_count": 4,
      "outputs": [
        {
          "output_type": "stream",
          "name": "stdout",
          "text": [
            "Speed of Light: 299792458.0 m/s\n",
            "Planck's Constant: 6.62607015e-34 J s\n",
            "Gravitational Constant: 6.6743e-11 m^3 kg^-1 s^-2\n"
          ]
        }
      ]
    },
    {
      "cell_type": "markdown",
      "source": [
        "5. SciPy Optimizers"
      ],
      "metadata": {
        "id": "XbrzcDwkXXxm"
      }
    },
    {
      "cell_type": "code",
      "source": [
        "from scipy.optimize import minimize\n",
        "\n",
        "# Define a simple function to minimize\n",
        "def objective(x):\n",
        "    return x**2 + 2*x + 1\n",
        "\n",
        "# Minimize the function\n",
        "result = minimize(objective, x0=0)\n",
        "print(\"Optimization Result:\", result)\n"
      ],
      "metadata": {
        "colab": {
          "base_uri": "https://localhost:8080/"
        },
        "id": "fAddWgwEXZWG",
        "outputId": "5d9f1d09-7198-45bb-af0e-d4b74d58c417"
      },
      "execution_count": 5,
      "outputs": [
        {
          "output_type": "stream",
          "name": "stdout",
          "text": [
            "Optimization Result:   message: Optimization terminated successfully.\n",
            "  success: True\n",
            "   status: 0\n",
            "      fun: 0.0\n",
            "        x: [-1.000e+00]\n",
            "      nit: 2\n",
            "      jac: [ 0.000e+00]\n",
            " hess_inv: [[ 5.000e-01]]\n",
            "     nfev: 6\n",
            "     njev: 3\n"
          ]
        }
      ]
    },
    {
      "cell_type": "markdown",
      "source": [
        "6. SciPy Sparse Data"
      ],
      "metadata": {
        "id": "J1kNBI74XeUX"
      }
    },
    {
      "cell_type": "code",
      "source": [
        "from scipy.sparse import csr_matrix\n",
        "\n",
        "# Create a sparse matrix\n",
        "matrix = csr_matrix([[0, 0, 1], [1, 0, 0], [0, 0, 2]])\n",
        "print(\"Sparse Matrix:\")\n",
        "print(matrix)\n"
      ],
      "metadata": {
        "colab": {
          "base_uri": "https://localhost:8080/"
        },
        "id": "OQXYuQl2XkDi",
        "outputId": "7da53346-bb08-4149-ef56-6eaa58696e01"
      },
      "execution_count": 6,
      "outputs": [
        {
          "output_type": "stream",
          "name": "stdout",
          "text": [
            "Sparse Matrix:\n",
            "  (0, 2)\t1\n",
            "  (1, 0)\t1\n",
            "  (2, 2)\t2\n"
          ]
        }
      ]
    },
    {
      "cell_type": "markdown",
      "source": [
        "7. SciPy Graphs"
      ],
      "metadata": {
        "id": "lUnx8Ft9Xm_z"
      }
    },
    {
      "cell_type": "code",
      "source": [
        "import matplotlib.pyplot as plt\n",
        "from scipy import interpolate\n",
        "import numpy as np\n",
        "\n",
        "# Create sample data\n",
        "x = np.arange(0, 10)\n",
        "y = np.sin(x)\n",
        "\n",
        "# Create an interpolation function\n",
        "f = interpolate.interp1d(x, y, kind='cubic')\n",
        "\n",
        "# Generate new data for a smoother curve\n",
        "x_new = np.linspace(0, 9, 100)\n",
        "y_new = f(x_new)\n",
        "\n",
        "# Plot the data\n",
        "plt.plot(x, y, 'o', label=\"Data\")\n",
        "plt.plot(x_new, y_new, '-', label=\"Interpolated\")\n",
        "plt.legend()\n",
        "plt.show()\n"
      ],
      "metadata": {
        "colab": {
          "base_uri": "https://localhost:8080/",
          "height": 430
        },
        "id": "Kzvbx8kKXqwU",
        "outputId": "d985b874-478a-4c16-d10a-31454acaa90c"
      },
      "execution_count": 7,
      "outputs": [
        {
          "output_type": "display_data",
          "data": {
            "text/plain": [
              "<Figure size 640x480 with 1 Axes>"
            ],
            "image/png": "[encoded data removed]"
          },
          "metadata": {}
        }
      ]
    },
    {
      "cell_type": "markdown",
      "source": [
        "8. SciPy Spatial Data"
      ],
      "metadata": {
        "id": "aKT5jUkXXv09"
      }
    },
    {
      "cell_type": "code",
      "source": [
        "from scipy.spatial import distance\n",
        "\n",
        "# Define two points in space\n",
        "point1 = [1, 2]\n",
        "point2 = [4, 6]\n",
        "\n",
        "# Calculate Euclidean distance between the points\n",
        "dist = distance.euclidean(point1, point2)\n",
        "print(\"Euclidean Distance:\", dist)\n"
      ],
      "metadata": {
        "colab": {
          "base_uri": "https://localhost:8080/"
        },
        "id": "X8ZBBEixXxt-",
        "outputId": "1f413243-63f0-4ee7-e75b-c3f55e486205"
      },
      "execution_count": 8,
      "outputs": [
        {
          "output_type": "stream",
          "name": "stdout",
          "text": [
            "Euclidean Distance: 5.0\n"
          ]
        }
      ]
    },
    {
      "cell_type": "markdown",
      "source": [
        "9. SciPy Matlab Arrays"
      ],
      "metadata": {
        "id": "XCN0juqPX3KV"
      }
    },
    {
      "cell_type": "code",
      "source": [
        "from scipy.io import savemat, loadmat\n",
        "import numpy as np\n",
        "\n",
        "# Save a numpy array as a MATLAB file\n",
        "data = {'array': np.array([1, 2, 3])}\n",
        "savemat(\"example.mat\", data)\n",
        "\n",
        "# Load the MATLAB file\n",
        "loaded_data = loadmat(\"example.mat\")\n",
        "print(\"Loaded Data:\", loaded_data)\n"
      ],
      "metadata": {
        "colab": {
          "base_uri": "https://localhost:8080/"
        },
        "id": "Rzndug8bX6HN",
        "outputId": "51e00270-43c3-4cce-862a-9c8c9a7eae11"
      },
      "execution_count": 9,
      "outputs": [
        {
          "output_type": "stream",
          "name": "stdout",
          "text": [
            "Loaded Data: {'__header__': b'MATLAB 5.0 MAT-file Platform: posix, Created on: Wed Oct 30 07:39:14 2024', '__version__': '1.0', '__globals__': [], 'array': array([[1, 2, 3]])}\n"
          ]
        }
      ]
    },
    {
      "cell_type": "markdown",
      "source": [
        "10. SciPy Interpolation"
      ],
      "metadata": {
        "id": "ZBBwf80yX9_2"
      }
    },
    {
      "cell_type": "code",
      "source": [
        "from scipy import interpolate\n",
        "import numpy as np\n",
        "\n",
        "# Sample data\n",
        "x = np.arange(0, 10)\n",
        "y = np.sin(x)\n",
        "\n",
        "# Linear interpolation\n",
        "f = interpolate.interp1d(x, y)\n",
        "y_new = f([5, 6, 7])\n",
        "\n",
        "print(\"Interpolated values:\", y_new)\n"
      ],
      "metadata": {
        "colab": {
          "base_uri": "https://localhost:8080/"
        },
        "id": "yEVI7O6BYAml",
        "outputId": "a0683a17-8672-48fe-dfdf-ee3b82f4db9a"
      },
      "execution_count": 10,
      "outputs": [
        {
          "output_type": "stream",
          "name": "stdout",
          "text": [
            "Interpolated values: [-0.95892427 -0.2794155   0.6569866 ]\n"
          ]
        }
      ]
    },
    {
      "cell_type": "markdown",
      "source": [
        "11. SciPy Significance Tests"
      ],
      "metadata": {
        "id": "x5dElz9EYD5W"
      }
    },
    {
      "cell_type": "code",
      "source": [
        "from scipy import stats\n",
        "\n",
        "# Generate random data\n",
        "data1 = [5, 10, 15, 20, 25]\n",
        "data2 = [6, 9, 14, 18, 30]\n",
        "\n",
        "# Perform a t-test\n",
        "t_stat, p_value = stats.ttest_ind(data1, data2)\n",
        "print(\"T-statistic:\", t_stat)\n",
        "print(\"P-value:\", p_value)\n"
      ],
      "metadata": {
        "colab": {
          "base_uri": "https://localhost:8080/"
        },
        "id": "vHY6cVBfYHFX",
        "outputId": "1a9779f1-ad13-48fd-aefa-eb77cca3ba53"
      },
      "execution_count": 11,
      "outputs": [
        {
          "output_type": "stream",
          "name": "stdout",
          "text": [
            "T-statistic: -0.07295675402194443\n",
            "P-value: 0.9436316395251647\n"
          ]
        }
      ]
    }
  ]
}