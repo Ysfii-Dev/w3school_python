{
  "nbformat": 4,
  "nbformat_minor": 0,
  "metadata": {
    "colab": {
      "provenance": []
    },
    "kernelspec": {
      "name": "python3",
      "display_name": "Python 3"
    },
    "language_info": {
      "name": "python"
    }
  },
  "cells": [
    {
      "cell_type": "markdown",
      "source": [
        "1. NumPy Getting Started"
      ],
      "metadata": {
        "id": "v3Ja3eKtOdgQ"
      }
    },
    {
      "cell_type": "code",
      "execution_count": 33,
      "metadata": {
        "colab": {
          "base_uri": "https://localhost:8080/"
        },
        "id": "8Vd0frQlOYL1",
        "outputId": "92aa61b8-08c0-4a56-b20c-bbba7591eb10"
      },
      "outputs": [
        {
          "output_type": "stream",
          "name": "stdout",
          "text": [
            "NumPy version: 1.26.4\n"
          ]
        }
      ],
      "source": [
        "import numpy as np\n",
        "print(\"NumPy version:\", np.__version__)\n"
      ]
    },
    {
      "cell_type": "markdown",
      "source": [
        "2. NumPy Creating Arrays"
      ],
      "metadata": {
        "id": "1j8dQEbSOegv"
      }
    },
    {
      "cell_type": "code",
      "source": [
        "import numpy as np\n",
        "array = np.array([1, 2, 3, 4, 5])\n",
        "print(array)\n",
        "\n"
      ],
      "metadata": {
        "colab": {
          "base_uri": "https://localhost:8080/"
        },
        "id": "xpcwKr7OOeIn",
        "outputId": "f95fcd2e-bf86-4301-fc45-09562cb3d60e"
      },
      "execution_count": 34,
      "outputs": [
        {
          "output_type": "stream",
          "name": "stdout",
          "text": [
            "[1 2 3 4 5]\n"
          ]
        }
      ]
    },
    {
      "cell_type": "markdown",
      "source": [
        "3. NumPy Array Indexing"
      ],
      "metadata": {
        "id": "I89BfWfBOf-O"
      }
    },
    {
      "cell_type": "code",
      "source": [
        "import numpy as np\n",
        "array = np.array([10, 20, 30, 40])\n",
        "print(array[2])  # Akses elemen ketiga\n"
      ],
      "metadata": {
        "colab": {
          "base_uri": "https://localhost:8080/"
        },
        "id": "SDRS88pKOg2u",
        "outputId": "caa574af-5847-4e42-da8c-ce1525d44348"
      },
      "execution_count": 35,
      "outputs": [
        {
          "output_type": "stream",
          "name": "stdout",
          "text": [
            "30\n"
          ]
        }
      ]
    },
    {
      "cell_type": "markdown",
      "source": [
        "4. NumPy Array Slicing"
      ],
      "metadata": {
        "id": "Bo_x3_3kOh-v"
      }
    },
    {
      "cell_type": "code",
      "source": [
        "import numpy as np\n",
        "# 1. NumPy Getting Started\n",
        "print(\"NumPy version:\", np.__version__)\n",
        "\n",
        "# 2. NumPy Creating Arrays\n",
        "array = np.array([1, 2, 3, 4, 5])\n",
        "print(array)\n",
        "\n",
        "\n",
        "# 3. NumPy Array Indexing\n",
        "array = np.array([10, 20, 30, 40])\n",
        "print(array[2])  # Akses elemen ketiga\n",
        "\n",
        "# 4. NumPy Array Slicing\n",
        "arr = np.array([1, 2, 3, 4, 5, 6, 7])\n",
        "print(arr[1:5]) # Slice dari indeks 1 hingga 4\n",
        "print(arr[4:])  # Slice dari indeks 4 hingga akhir\n",
        "print(arr[:4])  # Slice dari awal hingga indeks 3\n",
        "print(arr[-3:-1]) # Slice dari indeks -3 hingga -2"
      ],
      "metadata": {
        "colab": {
          "base_uri": "https://localhost:8080/"
        },
        "id": "y7mSqNGwOh2m",
        "outputId": "a3e5b30f-e135-4410-8b2b-c6846959a3d5"
      },
      "execution_count": 36,
      "outputs": [
        {
          "output_type": "stream",
          "name": "stdout",
          "text": [
            "NumPy version: 1.26.4\n",
            "[1 2 3 4 5]\n",
            "30\n",
            "[2 3 4 5]\n",
            "[5 6 7]\n",
            "[1 2 3 4]\n",
            "[5 6]\n"
          ]
        }
      ]
    },
    {
      "cell_type": "markdown",
      "source": [
        "5. NumPy Data Types"
      ],
      "metadata": {
        "id": "ftkbMVp4OhsH"
      }
    },
    {
      "cell_type": "code",
      "source": [
        "\n",
        "# 5. NumPy Data Types\n",
        "arr = np.array([1, 2, 3, 4])\n",
        "print(arr.dtype)\n",
        "\n",
        "arr = np.array(['apple', 'banana', 'cherry'])\n",
        "print(arr.dtype)\n",
        "\n",
        "arr = np.array([1, 2, 3, 4], dtype='S')\n",
        "print(arr)\n",
        "print(arr.dtype)\n",
        "\n",
        "arr = np.array([1, 2, 3, 4], dtype='i4')\n",
        "print(arr)\n",
        "arr.dtype"
      ],
      "metadata": {
        "colab": {
          "base_uri": "https://localhost:8080/"
        },
        "id": "PzH1vTZYOhev",
        "outputId": "643d7cc0-37f6-4978-d03e-7665c74ee8ec"
      },
      "execution_count": 37,
      "outputs": [
        {
          "output_type": "stream",
          "name": "stdout",
          "text": [
            "int64\n",
            "<U6\n",
            "[b'1' b'2' b'3' b'4']\n",
            "|S1\n",
            "[1 2 3 4]\n"
          ]
        },
        {
          "output_type": "execute_result",
          "data": {
            "text/plain": [
              "dtype('int32')"
            ]
          },
          "metadata": {},
          "execution_count": 37
        }
      ]
    },
    {
      "cell_type": "markdown",
      "source": [
        "6. NumPy Copy vs View"
      ],
      "metadata": {
        "id": "7sXZa7iVOhOf"
      }
    },
    {
      "cell_type": "code",
      "source": [
        "# prompt: NumPy Copy vs View\n",
        "\n",
        "# 6. NumPy Copy vs View\n",
        "arr = np.array([1, 2, 3, 4, 5])\n",
        "x = arr.copy()\n",
        "arr[0] = 42\n",
        "\n",
        "print(arr)\n",
        "print(x)\n",
        "\n",
        "arr = np.array([1, 2, 3, 4, 5])\n",
        "x = arr.view()\n",
        "arr[0] = 42\n",
        "\n",
        "print(arr)\n",
        "x\n"
      ],
      "metadata": {
        "colab": {
          "base_uri": "https://localhost:8080/"
        },
        "id": "izE3ds90QZZy",
        "outputId": "d8e9e6b5-7a81-4d91-ccec-39312aade89f"
      },
      "execution_count": 38,
      "outputs": [
        {
          "output_type": "stream",
          "name": "stdout",
          "text": [
            "[42  2  3  4  5]\n",
            "[1 2 3 4 5]\n",
            "[42  2  3  4  5]\n"
          ]
        },
        {
          "output_type": "execute_result",
          "data": {
            "text/plain": [
              "array([42,  2,  3,  4,  5])"
            ]
          },
          "metadata": {},
          "execution_count": 38
        }
      ]
    },
    {
      "cell_type": "markdown",
      "source": [
        "7. NumPy Array Shape"
      ],
      "metadata": {
        "id": "FALlUaVPQheV"
      }
    },
    {
      "cell_type": "code",
      "source": [
        "\n",
        "import numpy as np\n",
        "array = np.array([[1, 2, 3], [4, 5, 6]])\n",
        "print(array.shape)\n",
        "\n"
      ],
      "metadata": {
        "colab": {
          "base_uri": "https://localhost:8080/"
        },
        "id": "3J1xNqbOQiY7",
        "outputId": "accbb5e8-2d71-4a20-b2ab-a8386e3e94f8"
      },
      "execution_count": 39,
      "outputs": [
        {
          "output_type": "stream",
          "name": "stdout",
          "text": [
            "(2, 3)\n"
          ]
        }
      ]
    },
    {
      "cell_type": "markdown",
      "source": [
        "8. NumPy Array Reshape"
      ],
      "metadata": {
        "id": "SKdIUMGhQry4"
      }
    },
    {
      "cell_type": "code",
      "source": [
        "import numpy as np\n",
        "array = np.array([1, 2, 3, 4, 5, 6])\n",
        "reshaped = array.reshape(2, 3)\n",
        "print(reshaped)\n"
      ],
      "metadata": {
        "colab": {
          "base_uri": "https://localhost:8080/"
        },
        "id": "j2FlGm7dQunK",
        "outputId": "a6a1e6e9-601b-4996-b6a8-9709ba556a87"
      },
      "execution_count": 40,
      "outputs": [
        {
          "output_type": "stream",
          "name": "stdout",
          "text": [
            "[[1 2 3]\n",
            " [4 5 6]]\n"
          ]
        }
      ]
    },
    {
      "cell_type": "markdown",
      "source": [
        "9. NumPy Array Iterating"
      ],
      "metadata": {
        "id": "IFwbme-HQxeo"
      }
    },
    {
      "cell_type": "code",
      "source": [
        "import numpy as np\n",
        "array = np.array([1, 2, 3, 4])\n",
        "for x in array:\n",
        "    print(x)\n"
      ],
      "metadata": {
        "colab": {
          "base_uri": "https://localhost:8080/"
        },
        "id": "y3sxcS26QvtN",
        "outputId": "b8c80bcd-2dc2-4dd6-85de-bbcb9b94606f"
      },
      "execution_count": 41,
      "outputs": [
        {
          "output_type": "stream",
          "name": "stdout",
          "text": [
            "1\n",
            "2\n",
            "3\n",
            "4\n"
          ]
        }
      ]
    },
    {
      "cell_type": "markdown",
      "source": [
        "10. NumPy Array Join"
      ],
      "metadata": {
        "id": "MJSTAL9IQ6MC"
      }
    },
    {
      "cell_type": "code",
      "source": [
        "import numpy as np\n",
        "array1 = np.array([1, 2])\n",
        "array2 = np.array([3, 4])\n",
        "joined = np.concatenate((array1, array2))\n",
        "print(joined)\n"
      ],
      "metadata": {
        "colab": {
          "base_uri": "https://localhost:8080/"
        },
        "id": "bAQoO7rTQ5UK",
        "outputId": "19260ce8-4fdb-4fd7-be07-edb3f59e0ded"
      },
      "execution_count": 42,
      "outputs": [
        {
          "output_type": "stream",
          "name": "stdout",
          "text": [
            "[1 2 3 4]\n"
          ]
        }
      ]
    },
    {
      "cell_type": "markdown",
      "source": [
        "11. NumPy Array Split"
      ],
      "metadata": {
        "id": "S7en1QOGQ-RJ"
      }
    },
    {
      "cell_type": "code",
      "source": [
        "import numpy as np\n",
        "array = np.array([1, 2, 3, 4, 5, 6])\n",
        "split = np.array_split(array, 3)\n",
        "print(split)\n"
      ],
      "metadata": {
        "colab": {
          "base_uri": "https://localhost:8080/"
        },
        "id": "ZiKkl9WXQ5PW",
        "outputId": "935d0d41-2562-41b5-bc8c-5f1a810b7099"
      },
      "execution_count": 43,
      "outputs": [
        {
          "output_type": "stream",
          "name": "stdout",
          "text": [
            "[array([1, 2]), array([3, 4]), array([5, 6])]\n"
          ]
        }
      ]
    },
    {
      "cell_type": "markdown",
      "source": [
        "12. NumPy Array Search"
      ],
      "metadata": {
        "id": "vX_eCKexRH7f"
      }
    },
    {
      "cell_type": "code",
      "source": [
        "import numpy as np\n",
        "array = np.array([1, 2, 3, 4, 5])\n",
        "result = np.where(array == 4)\n",
        "print(result)\n"
      ],
      "metadata": {
        "colab": {
          "base_uri": "https://localhost:8080/"
        },
        "id": "PLo3Cw-qQ5M7",
        "outputId": "f301c4f9-b892-43f8-93fb-b73cc6d2ab5f"
      },
      "execution_count": 44,
      "outputs": [
        {
          "output_type": "stream",
          "name": "stdout",
          "text": [
            "(array([3]),)\n"
          ]
        }
      ]
    },
    {
      "cell_type": "markdown",
      "source": [
        "13. NumPy Array Sort"
      ],
      "metadata": {
        "id": "0wzWdCGARKdg"
      }
    },
    {
      "cell_type": "code",
      "source": [
        "import numpy as np\n",
        "array = np.array([3, 1, 5, 2, 4])\n",
        "sorted_array = np.sort(array)\n",
        "print(sorted_array)\n"
      ],
      "metadata": {
        "colab": {
          "base_uri": "https://localhost:8080/"
        },
        "id": "bTXaSEZ3Q5Ku",
        "outputId": "1ae793c0-e2f5-4bba-8953-492374e8a6d1"
      },
      "execution_count": 45,
      "outputs": [
        {
          "output_type": "stream",
          "name": "stdout",
          "text": [
            "[1 2 3 4 5]\n"
          ]
        }
      ]
    },
    {
      "cell_type": "markdown",
      "source": [
        "14. NumPy Array Filter"
      ],
      "metadata": {
        "id": "yMRi4OaWRSn3"
      }
    },
    {
      "cell_type": "code",
      "source": [
        "import numpy as np\n",
        "array = np.array([1, 2, 3, 4, 5])\n",
        "filter_array = array[array > 2]\n",
        "print(filter_array)\n"
      ],
      "metadata": {
        "colab": {
          "base_uri": "https://localhost:8080/"
        },
        "id": "dA3TBlY3Q5IS",
        "outputId": "6c4a070e-77e4-4b30-d864-fa5cf74c6d02"
      },
      "execution_count": 46,
      "outputs": [
        {
          "output_type": "stream",
          "name": "stdout",
          "text": [
            "[3 4 5]\n"
          ]
        }
      ]
    },
    {
      "cell_type": "markdown",
      "source": [
        "15. Random Intro"
      ],
      "metadata": {
        "id": "cuv_oUtKRWEJ"
      }
    },
    {
      "cell_type": "code",
      "source": [
        "import numpy as np\n",
        "random_number = np.random.rand()\n",
        "print(\"Random number:\", random_number)\n"
      ],
      "metadata": {
        "colab": {
          "base_uri": "https://localhost:8080/"
        },
        "id": "unAjqS-VQ5Fy",
        "outputId": "5bbb679b-1f1b-4062-becf-8030376714b4"
      },
      "execution_count": 47,
      "outputs": [
        {
          "output_type": "stream",
          "name": "stdout",
          "text": [
            "Random number: 0.10366598119112824\n"
          ]
        }
      ]
    },
    {
      "cell_type": "markdown",
      "source": [
        "16. data distribution"
      ],
      "metadata": {
        "id": "2uCwlR_tRfWy"
      }
    },
    {
      "cell_type": "code",
      "source": [
        "import numpy as np\n",
        "import matplotlib.pyplot as plt\n",
        "data = np.random.normal(0, 1, 1000)  # Distribusi normal\n",
        "plt.hist(data, bins=30)\n",
        "plt.show()\n"
      ],
      "metadata": {
        "colab": {
          "base_uri": "https://localhost:8080/",
          "height": 430
        },
        "id": "73AypGj3RjIp",
        "outputId": "02b72860-9337-48d6-bd3d-051d74e66b50"
      },
      "execution_count": 48,
      "outputs": [
        {
          "output_type": "display_data",
          "data": {
            "text/plain": [
              "<Figure size 640x480 with 1 Axes>"
            ],
            "image/png": "[encoded data removed]"
          },
          "metadata": {}
        }
      ]
    },
    {
      "cell_type": "markdown",
      "source": [
        "17. random permutation"
      ],
      "metadata": {
        "id": "2e_yyzZnRjvh"
      }
    },
    {
      "cell_type": "code",
      "source": [
        "import numpy as np\n",
        "array = np.array([1, 2, 3, 4, 5])\n",
        "permuted = np.random.permutation(array)\n",
        "print(permuted)\n"
      ],
      "metadata": {
        "colab": {
          "base_uri": "https://localhost:8080/"
        },
        "id": "EK55NrdeRumq",
        "outputId": "90062494-96c0-4e04-8da3-350e60ccc436"
      },
      "execution_count": 49,
      "outputs": [
        {
          "output_type": "stream",
          "name": "stdout",
          "text": [
            "[2 1 4 5 3]\n"
          ]
        }
      ]
    },
    {
      "cell_type": "markdown",
      "source": [
        "18. seaboarn module"
      ],
      "metadata": {
        "id": "0c_cWAdCRo5x"
      }
    },
    {
      "cell_type": "code",
      "source": [
        "import seaborn as sns\n",
        "import numpy as np\n",
        "import matplotlib.pyplot as plt\n",
        "data = np.random.normal(0, 1, 1000)\n",
        "sns.histplot(data, kde=True)\n",
        "plt.show()\n"
      ],
      "metadata": {
        "colab": {
          "base_uri": "https://localhost:8080/",
          "height": 430
        },
        "id": "QptvqD0BRouZ",
        "outputId": "3d46167b-dc0f-4490-f109-f01a0e608fe9"
      },
      "execution_count": 50,
      "outputs": [
        {
          "output_type": "display_data",
          "data": {
            "text/plain": [
              "<Figure size 640x480 with 1 Axes>"
            ],
            "image/png": "[encoded data removed]"
          },
          "metadata": {}
        }
      ]
    },
    {
      "cell_type": "markdown",
      "source": [
        "19. normal distribution"
      ],
      "metadata": {
        "id": "6wnVeCFqRtEJ"
      }
    },
    {
      "cell_type": "code",
      "source": [
        "import numpy as np\n",
        "data = np.random.normal(0, 1, 1000)\n",
        "print(\"Sample from normal distribution:\", data[:5])\n"
      ],
      "metadata": {
        "colab": {
          "base_uri": "https://localhost:8080/"
        },
        "id": "bst0X4gFRsbR",
        "outputId": "aa6b7167-4f1c-4b25-cefe-b5011b441d4d"
      },
      "execution_count": 51,
      "outputs": [
        {
          "output_type": "stream",
          "name": "stdout",
          "text": [
            "Sample from normal distribution: [ 0.04588199 -0.40637369  1.28564969  0.61330007 -1.23096017]\n"
          ]
        }
      ]
    },
    {
      "cell_type": "markdown",
      "source": [
        "20. Binomial Distribution"
      ],
      "metadata": {
        "id": "2qYKVncvRogh"
      }
    },
    {
      "cell_type": "code",
      "source": [
        "import numpy as np\n",
        "data = np.random.binomial(n=10, p=0.5, size=1000)\n",
        "print(\"Sample from binomial distribution:\", data[:5])\n"
      ],
      "metadata": {
        "colab": {
          "base_uri": "https://localhost:8080/"
        },
        "id": "3H9Ee7XzRoZZ",
        "outputId": "718b65e7-def5-4a1d-d330-31989b7231e5"
      },
      "execution_count": 52,
      "outputs": [
        {
          "output_type": "stream",
          "name": "stdout",
          "text": [
            "Sample from binomial distribution: [6 4 5 7 6]\n"
          ]
        }
      ]
    },
    {
      "cell_type": "markdown",
      "source": [
        "21. Poisson Distribution"
      ],
      "metadata": {
        "id": "VmDjl5wERoQK"
      }
    },
    {
      "cell_type": "code",
      "source": [
        "import numpy as np\n",
        "data = np.random.poisson(lam=3, size=1000)\n",
        "print(\"Sample from Poisson distribution:\", data[:5])\n"
      ],
      "metadata": {
        "colab": {
          "base_uri": "https://localhost:8080/"
        },
        "id": "JZsJR3rtRoIx",
        "outputId": "16951d77-5377-4775-aa74-a4e3fb0412ed"
      },
      "execution_count": 53,
      "outputs": [
        {
          "output_type": "stream",
          "name": "stdout",
          "text": [
            "Sample from Poisson distribution: [6 4 1 3 3]\n"
          ]
        }
      ]
    },
    {
      "cell_type": "markdown",
      "source": [
        "22. Uniform Distribution"
      ],
      "metadata": {
        "id": "f7tYDnctRnyJ"
      }
    },
    {
      "cell_type": "code",
      "source": [
        "import numpy as np\n",
        "data = np.random.uniform(0, 10, 1000)\n",
        "print(\"Sample from uniform distribution:\", data[:5])\n"
      ],
      "metadata": {
        "colab": {
          "base_uri": "https://localhost:8080/"
        },
        "id": "pAr7dzeQRnp6",
        "outputId": "5daafc43-e227-4675-a2eb-a867fb5c8a57"
      },
      "execution_count": 54,
      "outputs": [
        {
          "output_type": "stream",
          "name": "stdout",
          "text": [
            "Sample from uniform distribution: [8.56688924 6.93005721 2.07152266 8.59263695 3.99715669]\n"
          ]
        }
      ]
    },
    {
      "cell_type": "markdown",
      "source": [
        "23. Logistic Distribution"
      ],
      "metadata": {
        "id": "d6bj8EYuRncR"
      }
    },
    {
      "cell_type": "code",
      "source": [
        "import numpy as np\n",
        "data = np.random.logistic(loc=0, scale=1, size=1000)\n",
        "print(\"Sample from logistic distribution:\", data[:5])\n"
      ],
      "metadata": {
        "colab": {
          "base_uri": "https://localhost:8080/"
        },
        "id": "O1inbp0nRnS0",
        "outputId": "e025f96f-774d-459e-e1ca-cb762f6d4124"
      },
      "execution_count": 55,
      "outputs": [
        {
          "output_type": "stream",
          "name": "stdout",
          "text": [
            "Sample from logistic distribution: [ 3.05716149  1.53094392 -1.68099859  0.61125972 -0.72229387]\n"
          ]
        }
      ]
    },
    {
      "cell_type": "markdown",
      "source": [
        "24. Multinomial Distribution"
      ],
      "metadata": {
        "id": "QtWX27cwRnMA"
      }
    },
    {
      "cell_type": "code",
      "source": [
        "import numpy as np\n",
        "data = np.random.multinomial(10, [0.2, 0.3, 0.5], size=1)\n",
        "print(\"Sample from multinomial distribution:\", data)\n"
      ],
      "metadata": {
        "colab": {
          "base_uri": "https://localhost:8080/"
        },
        "id": "Ti34RLNNRnFL",
        "outputId": "08a43752-1fc8-4610-c773-b15efda33682"
      },
      "execution_count": 56,
      "outputs": [
        {
          "output_type": "stream",
          "name": "stdout",
          "text": [
            "Sample from multinomial distribution: [[2 4 4]]\n"
          ]
        }
      ]
    },
    {
      "cell_type": "markdown",
      "source": [
        "25. Exponential Distribution"
      ],
      "metadata": {
        "id": "9Cd99KzwRm-6"
      }
    },
    {
      "cell_type": "code",
      "source": [
        "import numpy as np\n",
        "data = np.random.exponential(scale=1, size=1000)\n",
        "print(\"Sample from exponential distribution:\", data[:5])\n"
      ],
      "metadata": {
        "colab": {
          "base_uri": "https://localhost:8080/"
        },
        "id": "yaaF8v5BRm4L",
        "outputId": "d8ff65be-0665-4162-af84-08d29005da67"
      },
      "execution_count": 57,
      "outputs": [
        {
          "output_type": "stream",
          "name": "stdout",
          "text": [
            "Sample from exponential distribution: [0.36778627 1.79287275 1.09379047 0.508048   0.41701834]\n"
          ]
        }
      ]
    },
    {
      "cell_type": "markdown",
      "source": [
        "26. Chi Square Distribution"
      ],
      "metadata": {
        "id": "Lbq8pl8tRmxq"
      }
    },
    {
      "cell_type": "code",
      "source": [
        "import numpy as np\n",
        "data = np.random.chisquare(df=2, size=1000)\n",
        "print(\"Sample from chi-square distribution:\", data[:5])\n"
      ],
      "metadata": {
        "colab": {
          "base_uri": "https://localhost:8080/"
        },
        "id": "IZwdIvu5Rmrg",
        "outputId": "486db5f8-9593-4b6a-da00-e8cdab5dbd10"
      },
      "execution_count": 58,
      "outputs": [
        {
          "output_type": "stream",
          "name": "stdout",
          "text": [
            "Sample from chi-square distribution: [0.36780386 6.06653012 4.56957721 0.28883457 4.72310481]\n"
          ]
        }
      ]
    },
    {
      "cell_type": "markdown",
      "source": [
        "27. Rayleigh Distribution"
      ],
      "metadata": {
        "id": "2SRQhLJARmlh"
      }
    },
    {
      "cell_type": "code",
      "source": [
        "import numpy as np\n",
        "data = np.random.rayleigh(scale=1, size=1000)\n",
        "print(\"Sample from Rayleigh distribution:\", data[:5])\n"
      ],
      "metadata": {
        "colab": {
          "base_uri": "https://localhost:8080/"
        },
        "id": "nzj4rxFHRmPz",
        "outputId": "4c79f6ef-d324-45e1-bbc0-01d931363208"
      },
      "execution_count": 59,
      "outputs": [
        {
          "output_type": "stream",
          "name": "stdout",
          "text": [
            "Sample from Rayleigh distribution: [0.28248363 0.74500755 0.29633104 1.61241859 0.62726987]\n"
          ]
        }
      ]
    },
    {
      "cell_type": "markdown",
      "source": [
        "28. Pareto Distribution"
      ],
      "metadata": {
        "id": "A3mRYV3zRl_5"
      }
    },
    {
      "cell_type": "code",
      "source": [
        "import numpy as np\n",
        "data = np.random.pareto(a=2, size=1000)\n",
        "print(\"Sample from Pareto distribution:\", data[:5])\n"
      ],
      "metadata": {
        "colab": {
          "base_uri": "https://localhost:8080/"
        },
        "id": "4GR94MqxRlvZ",
        "outputId": "d18719a3-2f32-4560-fdcb-d761d1d6f8c7"
      },
      "execution_count": 60,
      "outputs": [
        {
          "output_type": "stream",
          "name": "stdout",
          "text": [
            "Sample from Pareto distribution: [0.2433251  0.15217923 3.13855165 0.83843681 0.66611151]\n"
          ]
        }
      ]
    },
    {
      "cell_type": "markdown",
      "source": [
        "29.  Zipf Distribution"
      ],
      "metadata": {
        "id": "vmeWUgTrTDoL"
      }
    },
    {
      "cell_type": "code",
      "source": [
        "import numpy as np\n",
        "data = np.random.zipf(a=2, size=1000)\n",
        "print(\"Sample from Zipf distribution:\", data[:5])\n"
      ],
      "metadata": {
        "colab": {
          "base_uri": "https://localhost:8080/"
        },
        "id": "B0_FRFDNTDhS",
        "outputId": "5e77dde4-0ba1-4c84-b99e-f58e39cb5910"
      },
      "execution_count": 61,
      "outputs": [
        {
          "output_type": "stream",
          "name": "stdout",
          "text": [
            "Sample from Zipf distribution: [ 1  5  1  1 24]\n"
          ]
        }
      ]
    },
    {
      "cell_type": "markdown",
      "source": [
        "30. unfunc intro"
      ],
      "metadata": {
        "id": "N-QfQU27TDaK"
      }
    },
    {
      "cell_type": "code",
      "source": [
        "import numpy as np\n",
        "print(\"Example of Universal Function (ufunc):\", np.add(1, 2))\n"
      ],
      "metadata": {
        "colab": {
          "base_uri": "https://localhost:8080/"
        },
        "id": "oy4MEDpUTDSa",
        "outputId": "9d0cbc6f-2f84-4f1e-f513-1bb865a66a1b"
      },
      "execution_count": 62,
      "outputs": [
        {
          "output_type": "stream",
          "name": "stdout",
          "text": [
            "Example of Universal Function (ufunc): 3\n"
          ]
        }
      ]
    },
    {
      "cell_type": "markdown",
      "source": [
        "31. ufunc Create Function"
      ],
      "metadata": {
        "id": "DHfufFG8TDLS"
      }
    },
    {
      "cell_type": "code",
      "source": [
        "import numpy as np\n",
        "add = np.frompyfunc(lambda x, y: x + y, 2, 1)\n",
        "print(\"Custom ufunc add:\", add(5, 10))\n"
      ],
      "metadata": {
        "colab": {
          "base_uri": "https://localhost:8080/"
        },
        "id": "xw5IY1D_TDDr",
        "outputId": "602b2cba-d7f3-453f-868f-44f1ef044c84"
      },
      "execution_count": 63,
      "outputs": [
        {
          "output_type": "stream",
          "name": "stdout",
          "text": [
            "Custom ufunc add: 15\n"
          ]
        }
      ]
    },
    {
      "cell_type": "markdown",
      "source": [
        "32. ufunc Simple Arithmetic"
      ],
      "metadata": {
        "id": "NEntzBEsTC88"
      }
    },
    {
      "cell_type": "code",
      "source": [
        "import numpy as np\n",
        "array1 = np.array([1, 2, 3])\n",
        "array2 = np.array([4, 5, 6])\n",
        "result = np.add(array1, array2)\n",
        "print(\"Simple addition:\", result)\n"
      ],
      "metadata": {
        "colab": {
          "base_uri": "https://localhost:8080/"
        },
        "id": "jJRzfAApTC2S",
        "outputId": "23ebb3f0-ff8c-4db5-8ff0-884911315bb5"
      },
      "execution_count": 64,
      "outputs": [
        {
          "output_type": "stream",
          "name": "stdout",
          "text": [
            "Simple addition: [5 7 9]\n"
          ]
        }
      ]
    },
    {
      "cell_type": "markdown",
      "source": [
        "33. ufunc Rounding"
      ],
      "metadata": {
        "id": "SRH2c-LsTCuy"
      }
    },
    {
      "cell_type": "code",
      "source": [
        "import numpy as np\n",
        "array = np.array([1.7, 2.5, 3.1])\n",
        "rounded = np.round(array)\n",
        "print(\"Rounded array:\", rounded)\n"
      ],
      "metadata": {
        "colab": {
          "base_uri": "https://localhost:8080/"
        },
        "id": "YvaDVNaITCn1",
        "outputId": "d9aa67b5-bfc7-4553-96ba-be6b85dbf7d4"
      },
      "execution_count": 65,
      "outputs": [
        {
          "output_type": "stream",
          "name": "stdout",
          "text": [
            "Rounded array: [2. 2. 3.]\n"
          ]
        }
      ]
    },
    {
      "cell_type": "markdown",
      "source": [
        "34. Decimals"
      ],
      "metadata": {
        "id": "5nhbEQXqTCgb"
      }
    },
    {
      "cell_type": "code",
      "source": [
        "import numpy as np\n",
        "array = np.array([1.1234, 2.5678, 3.9123])\n",
        "rounded_to_decimals = np.round(array, 2)\n",
        "print(\"Rounded to 2 decimals:\", rounded_to_decimals)\n"
      ],
      "metadata": {
        "colab": {
          "base_uri": "https://localhost:8080/"
        },
        "id": "xeeFxmqiTCZa",
        "outputId": "cbf87056-fcb8-42fc-cc9a-16a345651811"
      },
      "execution_count": 66,
      "outputs": [
        {
          "output_type": "stream",
          "name": "stdout",
          "text": [
            "Rounded to 2 decimals: [1.12 2.57 3.91]\n"
          ]
        }
      ]
    },
    {
      "cell_type": "markdown",
      "source": [
        "35. ufunc Logs"
      ],
      "metadata": {
        "id": "DdDbtyA6TCR7"
      }
    },
    {
      "cell_type": "code",
      "source": [
        "import numpy as np\n",
        "array = np.array([1, 2, 3])\n",
        "log_result = np.log(array)\n",
        "print(\"Log of array:\", log_result)\n"
      ],
      "metadata": {
        "colab": {
          "base_uri": "https://localhost:8080/"
        },
        "id": "0ldcaiOFTCKq",
        "outputId": "06b07a70-6eaf-4c09-92bb-d978dd5ef8c0"
      },
      "execution_count": 67,
      "outputs": [
        {
          "output_type": "stream",
          "name": "stdout",
          "text": [
            "Log of array: [0.         0.69314718 1.09861229]\n"
          ]
        }
      ]
    },
    {
      "cell_type": "markdown",
      "source": [
        "36. ufunc Summations"
      ],
      "metadata": {
        "id": "Om44NBc4TCC6"
      }
    },
    {
      "cell_type": "code",
      "source": [
        "import numpy as np\n",
        "array = np.array([1, 2, 3, 4])\n",
        "sum_result = np.sum(array)\n",
        "print(\"Sum of array:\", sum_result)\n"
      ],
      "metadata": {
        "colab": {
          "base_uri": "https://localhost:8080/"
        },
        "id": "GGd2vVRtTB7l",
        "outputId": "6bc63b2c-5897-43a7-def7-e0ff811e327f"
      },
      "execution_count": 68,
      "outputs": [
        {
          "output_type": "stream",
          "name": "stdout",
          "text": [
            "Sum of array: 10\n"
          ]
        }
      ]
    },
    {
      "cell_type": "markdown",
      "source": [
        "37. ufunc Products"
      ],
      "metadata": {
        "id": "YwZj5BK8TB1j"
      }
    },
    {
      "cell_type": "code",
      "source": [
        "import numpy as np\n",
        "array = np.array([1, 2, 3, 4])\n",
        "product_result = np.prod(array)\n",
        "print(\"Product of array:\", product_result)\n"
      ],
      "metadata": {
        "colab": {
          "base_uri": "https://localhost:8080/"
        },
        "id": "IzOJE0z4TBuC",
        "outputId": "39b114ca-8c62-4d6e-b0a7-a984147a4376"
      },
      "execution_count": 69,
      "outputs": [
        {
          "output_type": "stream",
          "name": "stdout",
          "text": [
            "Product of array: 24\n"
          ]
        }
      ]
    },
    {
      "cell_type": "markdown",
      "source": [
        "38. ufunc Differences"
      ],
      "metadata": {
        "id": "ZoBdUJtBTBl7"
      }
    },
    {
      "cell_type": "code",
      "source": [
        "import numpy as np\n",
        "array = np.array([10, 20, 30])\n",
        "differences = np.diff(array)\n",
        "print(\"Differences in array:\", differences)\n"
      ],
      "metadata": {
        "colab": {
          "base_uri": "https://localhost:8080/"
        },
        "id": "xzugFV4fTBck",
        "outputId": "f0d03fb6-310f-4030-e8a6-e9511384638f"
      },
      "execution_count": 70,
      "outputs": [
        {
          "output_type": "stream",
          "name": "stdout",
          "text": [
            "Differences in array: [10 10]\n"
          ]
        }
      ]
    },
    {
      "cell_type": "markdown",
      "source": [
        "39. ufunc Finding LCM"
      ],
      "metadata": {
        "id": "TuwaD5BVTBPq"
      }
    },
    {
      "cell_type": "code",
      "source": [
        "import numpy as np\n",
        "array = np.array([4, 6, 8])\n",
        "lcm = np.lcm.reduce(array)\n",
        "print(\"LCM of array:\", lcm)\n"
      ],
      "metadata": {
        "colab": {
          "base_uri": "https://localhost:8080/"
        },
        "id": "vHLXwIGgTBFL",
        "outputId": "bd3ca438-64bb-443b-d7cd-692163b187aa"
      },
      "execution_count": 71,
      "outputs": [
        {
          "output_type": "stream",
          "name": "stdout",
          "text": [
            "LCM of array: 24\n"
          ]
        }
      ]
    },
    {
      "cell_type": "markdown",
      "source": [
        "40. ufunc Finding GCD"
      ],
      "metadata": {
        "id": "sMJVk7BPT7Gf"
      }
    },
    {
      "cell_type": "code",
      "source": [
        "import numpy as np\n",
        "array = np.array([12, 15, 21])\n",
        "gcd = np.gcd.reduce(array)\n",
        "print(\"GCD of array:\", gcd)\n"
      ],
      "metadata": {
        "colab": {
          "base_uri": "https://localhost:8080/"
        },
        "id": "yEdkFP4ZT69H",
        "outputId": "a8e71aba-02ad-49b7-9581-1f352c1154c6"
      },
      "execution_count": 72,
      "outputs": [
        {
          "output_type": "stream",
          "name": "stdout",
          "text": [
            "GCD of array: 3\n"
          ]
        }
      ]
    },
    {
      "cell_type": "markdown",
      "source": [
        "41. ufunc Trigonometric"
      ],
      "metadata": {
        "id": "lMTHzxvUT60X"
      }
    },
    {
      "cell_type": "code",
      "source": [
        "import numpy as np\n",
        "array = np.array([0, np.pi/2, np.pi])\n",
        "sin_result = np.sin(array)\n",
        "print(\"Sine of array:\", sin_result)\n"
      ],
      "metadata": {
        "colab": {
          "base_uri": "https://localhost:8080/"
        },
        "id": "BQzTOqCuT6qn",
        "outputId": "73a2f05b-2ea1-45e8-c09a-c2fd23952832"
      },
      "execution_count": 73,
      "outputs": [
        {
          "output_type": "stream",
          "name": "stdout",
          "text": [
            "Sine of array: [0.0000000e+00 1.0000000e+00 1.2246468e-16]\n"
          ]
        }
      ]
    },
    {
      "cell_type": "markdown",
      "source": [
        "42.  ufunc Hyperbolic"
      ],
      "metadata": {
        "id": "Thw1CewbT6iI"
      }
    },
    {
      "cell_type": "code",
      "source": [
        "import numpy as np\n",
        "array = np.array([0, 1, np.pi])\n",
        "sinh_result = np.sinh(array)\n",
        "print(\"Hyperbolic sine of array:\", sinh_result)\n"
      ],
      "metadata": {
        "colab": {
          "base_uri": "https://localhost:8080/"
        },
        "id": "U5vjkEwWT6Zv",
        "outputId": "059f3379-9f7e-42a3-c86b-a6cfa6aea3b6"
      },
      "execution_count": 74,
      "outputs": [
        {
          "output_type": "stream",
          "name": "stdout",
          "text": [
            "Hyperbolic sine of array: [ 0.          1.17520119 11.54873936]\n"
          ]
        }
      ]
    },
    {
      "cell_type": "markdown",
      "source": [
        "43. ufunc Set Operations"
      ],
      "metadata": {
        "id": "Qt85E8BpT6Rw"
      }
    },
    {
      "cell_type": "code",
      "source": [
        "import numpy as np\n",
        "array1 = np.array([1, 2, 3, 4])\n",
        "array2 = np.array([3, 4, 5, 6])\n",
        "intersection = np.intersect1d(array1, array2)\n",
        "print(\"Intersection of arrays:\", intersection)\n"
      ],
      "metadata": {
        "colab": {
          "base_uri": "https://localhost:8080/"
        },
        "id": "EiHR3W-ET6JZ",
        "outputId": "ef952e16-3ef2-49a3-c104-e764cdc644eb"
      },
      "execution_count": 75,
      "outputs": [
        {
          "output_type": "stream",
          "name": "stdout",
          "text": [
            "Intersection of arrays: [3 4]\n"
          ]
        }
      ]
    }
  ]
}